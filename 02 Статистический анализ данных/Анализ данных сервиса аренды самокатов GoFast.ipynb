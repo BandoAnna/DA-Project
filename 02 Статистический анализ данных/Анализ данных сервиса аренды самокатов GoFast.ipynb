{
 "cells": [
  {
   "cell_type": "markdown",
   "id": "2c59000d",
   "metadata": {},
   "source": [
    "# Анализ данных сервиса аренды самокатов GoFast"
   ]
  },
  {
   "cell_type": "markdown",
   "id": "ffa45135",
   "metadata": {},
   "source": [
    "**Цель исследования:**\n",
    "Проанализировать данные и проверить некоторые гипотезы, которые могут помочь бизнесу вырасти\n",
    "\n",
    "**Ход исследования:**\n",
    "\n",
    "Чтобы совершать поездки по городу, пользователи сервиса GoFast пользуются мобильным приложением. \n",
    "Сервисом можно пользоваться:\n",
    "1. без подписки\n",
    "- абонентская плата отсутствует;\n",
    "- стоимость одной минуты поездки — 8 рублей;\n",
    "- стоимость старта (начала поездки) — 50 рублей;\n",
    "2. с подпиской Ultra\n",
    "- абонентская плата — 199 рублей в месяц;\n",
    "- стоимость одной минуты поездки — 6 рублей;\n",
    "- стоимость старта — бесплатно.\n",
    "\n",
    "В основных данных есть информация о пользователях, их поездках и подписках.\n",
    "Для начала проведу обзор данных по каждому датафрейму. Далее, будем делать предобработку данных. Искать аномалии, пропущенные значения и т.д.\n",
    "\n",
    "Из полученных данных исследую и проведу анализ таких показателей как:\n",
    "- частота встречаемости городов;\n",
    "- соотношение пользователей с подпиской и без подписки;\n",
    "- возраст пользователей;\n",
    "- расстояние, которое пользователь преодолел за одну поездку;\n",
    "- продолжительность поездок.\n",
    "\n",
    "Для решения поставленных задач необходимо будет:\n",
    "- объединить данные о пользователях, поездках и подписках в один датафрейм\n",
    "- создать ещё два датафрейма из датафрейма (c данными о пользователях без подписки и с данными о пользователях с подпиской)\n",
    "- создать датафрейм с агрегированными данными о поездках\n",
    "- добавить столбец с помесячной выручкой, которую принёс каждый пользователь\n",
    "- проверить 3 гипотезы:\n",
    "1. тратят ли пользователи с подпиской больше времени на поездки?\n",
    "2. можно ли сказать, что расстояние, которое проезжают пользователи с подпиской за одну поездку, не превышает 3130 метров\n",
    "3. будет ли помесячная выручка от пользователей с подпиской по месяцам выше, чем выручка от пользователей без подписки\n",
    "\n",
    "\n",
    "**Таким образом, исследование пройдёт в 7 этапов:**\n",
    "- Обзор данных.\n",
    "- Предобработка данных.\n",
    "- Исследовательский анализ данных\n",
    "- Объединение данных\n",
    "- Подсчет выручки\n",
    "- Проверка гипотез\n",
    "- Выводы"
   ]
  },
  {
   "cell_type": "markdown",
   "id": "86f9cc81",
   "metadata": {},
   "source": [
    "## Этап 1. Обзор данных"
   ]
  },
  {
   "cell_type": "markdown",
   "id": "1b2d93bb",
   "metadata": {},
   "source": [
    "Импортируем библиотеки"
   ]
  },
  {
   "cell_type": "code",
   "execution_count": 1,
   "id": "c655c013",
   "metadata": {},
   "outputs": [],
   "source": [
    "import pandas as pd\n",
    "import math \n",
    "from math import factorial \n",
    "import matplotlib.pyplot as plt\n",
    "import seaborn as sns\n",
    "import plotly.express as px\n",
    "import numpy as np\n",
    "from scipy import stats as st\n",
    "import warnings\n",
    "warnings.filterwarnings('ignore')"
   ]
  },
  {
   "cell_type": "markdown",
   "id": "c98643af",
   "metadata": {},
   "source": [
    "Прочитаем и рассмотрим датафрейм **Пользователи**"
   ]
  },
  {
   "cell_type": "code",
   "execution_count": 2,
   "id": "207d98e1",
   "metadata": {},
   "outputs": [],
   "source": [
    "try:\n",
    "    df_users = pd.read_csv('/datasets/users_go.csv')\n",
    "except:\n",
    "    df_users = pd.read_csv('https://code.s3.yandex.net/datasets/users_go.csv')"
   ]
  },
  {
   "cell_type": "code",
   "execution_count": 3,
   "id": "a9472e7c",
   "metadata": {},
   "outputs": [
    {
     "name": "stdout",
     "output_type": "stream",
     "text": [
      "<class 'pandas.core.frame.DataFrame'>\n",
      "RangeIndex: 1565 entries, 0 to 1564\n",
      "Data columns (total 5 columns):\n",
      " #   Column             Non-Null Count  Dtype \n",
      "---  ------             --------------  ----- \n",
      " 0   user_id            1565 non-null   int64 \n",
      " 1   name               1565 non-null   object\n",
      " 2   age                1565 non-null   int64 \n",
      " 3   city               1565 non-null   object\n",
      " 4   subscription_type  1565 non-null   object\n",
      "dtypes: int64(2), object(3)\n",
      "memory usage: 61.3+ KB\n"
     ]
    }
   ],
   "source": [
    "df_users.info()"
   ]
  },
  {
   "cell_type": "markdown",
   "id": "a07f6e1d",
   "metadata": {},
   "source": [
    "Формат данных корректный, стилистика столбцов не нарушена.\n",
    "\n",
    "Выведем первые строки."
   ]
  },
  {
   "cell_type": "code",
   "execution_count": 4,
   "id": "b820aabd",
   "metadata": {
    "scrolled": true
   },
   "outputs": [
    {
     "data": {
      "text/html": [
       "<div>\n",
       "<style scoped>\n",
       "    .dataframe tbody tr th:only-of-type {\n",
       "        vertical-align: middle;\n",
       "    }\n",
       "\n",
       "    .dataframe tbody tr th {\n",
       "        vertical-align: top;\n",
       "    }\n",
       "\n",
       "    .dataframe thead th {\n",
       "        text-align: right;\n",
       "    }\n",
       "</style>\n",
       "<table border=\"1\" class=\"dataframe\">\n",
       "  <thead>\n",
       "    <tr style=\"text-align: right;\">\n",
       "      <th></th>\n",
       "      <th>user_id</th>\n",
       "      <th>name</th>\n",
       "      <th>age</th>\n",
       "      <th>city</th>\n",
       "      <th>subscription_type</th>\n",
       "    </tr>\n",
       "  </thead>\n",
       "  <tbody>\n",
       "    <tr>\n",
       "      <th>0</th>\n",
       "      <td>1</td>\n",
       "      <td>Кира</td>\n",
       "      <td>22</td>\n",
       "      <td>Тюмень</td>\n",
       "      <td>ultra</td>\n",
       "    </tr>\n",
       "    <tr>\n",
       "      <th>1</th>\n",
       "      <td>2</td>\n",
       "      <td>Станислав</td>\n",
       "      <td>31</td>\n",
       "      <td>Омск</td>\n",
       "      <td>ultra</td>\n",
       "    </tr>\n",
       "    <tr>\n",
       "      <th>2</th>\n",
       "      <td>3</td>\n",
       "      <td>Алексей</td>\n",
       "      <td>20</td>\n",
       "      <td>Москва</td>\n",
       "      <td>ultra</td>\n",
       "    </tr>\n",
       "    <tr>\n",
       "      <th>3</th>\n",
       "      <td>4</td>\n",
       "      <td>Константин</td>\n",
       "      <td>26</td>\n",
       "      <td>Ростов-на-Дону</td>\n",
       "      <td>ultra</td>\n",
       "    </tr>\n",
       "    <tr>\n",
       "      <th>4</th>\n",
       "      <td>5</td>\n",
       "      <td>Адель</td>\n",
       "      <td>28</td>\n",
       "      <td>Омск</td>\n",
       "      <td>ultra</td>\n",
       "    </tr>\n",
       "    <tr>\n",
       "      <th>5</th>\n",
       "      <td>6</td>\n",
       "      <td>Регина</td>\n",
       "      <td>25</td>\n",
       "      <td>Краснодар</td>\n",
       "      <td>ultra</td>\n",
       "    </tr>\n",
       "    <tr>\n",
       "      <th>6</th>\n",
       "      <td>7</td>\n",
       "      <td>Игорь</td>\n",
       "      <td>23</td>\n",
       "      <td>Омск</td>\n",
       "      <td>ultra</td>\n",
       "    </tr>\n",
       "    <tr>\n",
       "      <th>7</th>\n",
       "      <td>8</td>\n",
       "      <td>Юрий</td>\n",
       "      <td>23</td>\n",
       "      <td>Краснодар</td>\n",
       "      <td>ultra</td>\n",
       "    </tr>\n",
       "    <tr>\n",
       "      <th>8</th>\n",
       "      <td>9</td>\n",
       "      <td>Ян</td>\n",
       "      <td>21</td>\n",
       "      <td>Пятигорск</td>\n",
       "      <td>ultra</td>\n",
       "    </tr>\n",
       "    <tr>\n",
       "      <th>9</th>\n",
       "      <td>10</td>\n",
       "      <td>Валерий</td>\n",
       "      <td>18</td>\n",
       "      <td>Екатеринбург</td>\n",
       "      <td>ultra</td>\n",
       "    </tr>\n",
       "  </tbody>\n",
       "</table>\n",
       "</div>"
      ],
      "text/plain": [
       "   user_id        name  age            city subscription_type\n",
       "0        1        Кира   22          Тюмень             ultra\n",
       "1        2   Станислав   31            Омск             ultra\n",
       "2        3     Алексей   20          Москва             ultra\n",
       "3        4  Константин   26  Ростов-на-Дону             ultra\n",
       "4        5       Адель   28            Омск             ultra\n",
       "5        6      Регина   25       Краснодар             ultra\n",
       "6        7       Игорь   23            Омск             ultra\n",
       "7        8        Юрий   23       Краснодар             ultra\n",
       "8        9          Ян   21       Пятигорск             ultra\n",
       "9       10     Валерий   18    Екатеринбург             ultra"
      ]
     },
     "execution_count": 4,
     "metadata": {},
     "output_type": "execute_result"
    }
   ],
   "source": [
    "df_users.head(10)"
   ]
  },
  {
   "cell_type": "markdown",
   "id": "69de324b",
   "metadata": {},
   "source": [
    "Рассмотрим сводную статистику возрастных значений датафрейма"
   ]
  },
  {
   "cell_type": "code",
   "execution_count": 5,
   "id": "0fb6253b",
   "metadata": {
    "scrolled": false
   },
   "outputs": [
    {
     "data": {
      "text/plain": [
       "count    1565.000000\n",
       "mean       24.922045\n",
       "std         4.553496\n",
       "min        12.000000\n",
       "25%        22.000000\n",
       "50%        25.000000\n",
       "75%        28.000000\n",
       "max        43.000000\n",
       "Name: age, dtype: float64"
      ]
     },
     "execution_count": 5,
     "metadata": {},
     "output_type": "execute_result"
    }
   ],
   "source": [
    "df_users['age'].describe()"
   ]
  },
  {
   "cell_type": "markdown",
   "id": "6e9561de",
   "metadata": {},
   "source": [
    "Видим, что минимальный возраст пользователя 12 лет, а максимальный возраст не превышает 43-х лет. Среднее и медиана 25 лет точны."
   ]
  },
  {
   "cell_type": "markdown",
   "id": "414c4750",
   "metadata": {},
   "source": [
    "Рассмотрим распределение всех пользователей по городам. "
   ]
  },
  {
   "cell_type": "code",
   "execution_count": 6,
   "id": "29b00e01",
   "metadata": {},
   "outputs": [
    {
     "data": {
      "text/plain": [
       "Пятигорск         226\n",
       "Екатеринбург      206\n",
       "Ростов-на-Дону    202\n",
       "Краснодар         196\n",
       "Сочи              192\n",
       "Омск              186\n",
       "Тюмень            185\n",
       "Москва            172\n",
       "Name: city, dtype: int64"
      ]
     },
     "execution_count": 6,
     "metadata": {},
     "output_type": "execute_result"
    }
   ],
   "source": [
    "df_users['city'].value_counts()"
   ]
  },
  {
   "cell_type": "markdown",
   "id": "b51a5d02",
   "metadata": {},
   "source": [
    "Больше всего пользователей из Пятигорска, меньше всех из Москвы. В остальных городах пользователи распределны почти равномерно."
   ]
  },
  {
   "cell_type": "markdown",
   "id": "bb557d41",
   "metadata": {},
   "source": [
    "Рассмотрим как распределены пользователи в зависимости от тарифа (free, ultra)"
   ]
  },
  {
   "cell_type": "code",
   "execution_count": 7,
   "id": "490e738b",
   "metadata": {},
   "outputs": [
    {
     "data": {
      "text/plain": [
       "free     846\n",
       "ultra    719\n",
       "Name: subscription_type, dtype: int64"
      ]
     },
     "execution_count": 7,
     "metadata": {},
     "output_type": "execute_result"
    }
   ],
   "source": [
    "df_users['subscription_type'].value_counts()"
   ]
  },
  {
   "cell_type": "markdown",
   "id": "a567a79f",
   "metadata": {},
   "source": [
    "Больше всего пользователей с бесплатной подпиской."
   ]
  },
  {
   "cell_type": "markdown",
   "id": "0184f93f",
   "metadata": {},
   "source": [
    "Прочитаем и рассмотрим датафрейм **Поездки**"
   ]
  },
  {
   "cell_type": "code",
   "execution_count": 8,
   "id": "b0db8feb",
   "metadata": {},
   "outputs": [],
   "source": [
    "try:\n",
    "    df_rides = pd.read_csv('/datasets/rides_go.csv')\n",
    "except:\n",
    "    df_rides = pd.read_csv('https://code.s3.yandex.net/datasets/rides_go.csv')"
   ]
  },
  {
   "cell_type": "code",
   "execution_count": 9,
   "id": "954d4a41",
   "metadata": {},
   "outputs": [
    {
     "name": "stdout",
     "output_type": "stream",
     "text": [
      "<class 'pandas.core.frame.DataFrame'>\n",
      "RangeIndex: 18068 entries, 0 to 18067\n",
      "Data columns (total 4 columns):\n",
      " #   Column    Non-Null Count  Dtype  \n",
      "---  ------    --------------  -----  \n",
      " 0   user_id   18068 non-null  int64  \n",
      " 1   distance  18068 non-null  float64\n",
      " 2   duration  18068 non-null  float64\n",
      " 3   date      18068 non-null  object \n",
      "dtypes: float64(2), int64(1), object(1)\n",
      "memory usage: 564.8+ KB\n"
     ]
    }
   ],
   "source": [
    "df_rides.info()"
   ]
  },
  {
   "cell_type": "markdown",
   "id": "b3fddc2c",
   "metadata": {},
   "source": [
    "Формат данных в столбце date не корректный, стилистика столбцов не нарушена.\n",
    "\n",
    "Выведем первые строки."
   ]
  },
  {
   "cell_type": "code",
   "execution_count": 10,
   "id": "7e360464",
   "metadata": {
    "scrolled": false
   },
   "outputs": [
    {
     "data": {
      "text/html": [
       "<div>\n",
       "<style scoped>\n",
       "    .dataframe tbody tr th:only-of-type {\n",
       "        vertical-align: middle;\n",
       "    }\n",
       "\n",
       "    .dataframe tbody tr th {\n",
       "        vertical-align: top;\n",
       "    }\n",
       "\n",
       "    .dataframe thead th {\n",
       "        text-align: right;\n",
       "    }\n",
       "</style>\n",
       "<table border=\"1\" class=\"dataframe\">\n",
       "  <thead>\n",
       "    <tr style=\"text-align: right;\">\n",
       "      <th></th>\n",
       "      <th>user_id</th>\n",
       "      <th>distance</th>\n",
       "      <th>duration</th>\n",
       "      <th>date</th>\n",
       "    </tr>\n",
       "  </thead>\n",
       "  <tbody>\n",
       "    <tr>\n",
       "      <th>0</th>\n",
       "      <td>1</td>\n",
       "      <td>4409.919140</td>\n",
       "      <td>25.599769</td>\n",
       "      <td>2021-01-01</td>\n",
       "    </tr>\n",
       "    <tr>\n",
       "      <th>1</th>\n",
       "      <td>1</td>\n",
       "      <td>2617.592153</td>\n",
       "      <td>15.816871</td>\n",
       "      <td>2021-01-18</td>\n",
       "    </tr>\n",
       "    <tr>\n",
       "      <th>2</th>\n",
       "      <td>1</td>\n",
       "      <td>754.159807</td>\n",
       "      <td>6.232113</td>\n",
       "      <td>2021-04-20</td>\n",
       "    </tr>\n",
       "    <tr>\n",
       "      <th>3</th>\n",
       "      <td>1</td>\n",
       "      <td>2694.783254</td>\n",
       "      <td>18.511000</td>\n",
       "      <td>2021-08-11</td>\n",
       "    </tr>\n",
       "    <tr>\n",
       "      <th>4</th>\n",
       "      <td>1</td>\n",
       "      <td>4028.687306</td>\n",
       "      <td>26.265803</td>\n",
       "      <td>2021-08-28</td>\n",
       "    </tr>\n",
       "    <tr>\n",
       "      <th>5</th>\n",
       "      <td>1</td>\n",
       "      <td>2770.890808</td>\n",
       "      <td>16.650138</td>\n",
       "      <td>2021-10-09</td>\n",
       "    </tr>\n",
       "    <tr>\n",
       "      <th>6</th>\n",
       "      <td>1</td>\n",
       "      <td>3039.020292</td>\n",
       "      <td>14.927879</td>\n",
       "      <td>2021-10-19</td>\n",
       "    </tr>\n",
       "    <tr>\n",
       "      <th>7</th>\n",
       "      <td>1</td>\n",
       "      <td>2842.118050</td>\n",
       "      <td>23.117468</td>\n",
       "      <td>2021-11-06</td>\n",
       "    </tr>\n",
       "    <tr>\n",
       "      <th>8</th>\n",
       "      <td>1</td>\n",
       "      <td>3412.690668</td>\n",
       "      <td>15.238072</td>\n",
       "      <td>2021-11-14</td>\n",
       "    </tr>\n",
       "    <tr>\n",
       "      <th>9</th>\n",
       "      <td>1</td>\n",
       "      <td>748.690645</td>\n",
       "      <td>15.041884</td>\n",
       "      <td>2021-11-22</td>\n",
       "    </tr>\n",
       "  </tbody>\n",
       "</table>\n",
       "</div>"
      ],
      "text/plain": [
       "   user_id     distance   duration        date\n",
       "0        1  4409.919140  25.599769  2021-01-01\n",
       "1        1  2617.592153  15.816871  2021-01-18\n",
       "2        1   754.159807   6.232113  2021-04-20\n",
       "3        1  2694.783254  18.511000  2021-08-11\n",
       "4        1  4028.687306  26.265803  2021-08-28\n",
       "5        1  2770.890808  16.650138  2021-10-09\n",
       "6        1  3039.020292  14.927879  2021-10-19\n",
       "7        1  2842.118050  23.117468  2021-11-06\n",
       "8        1  3412.690668  15.238072  2021-11-14\n",
       "9        1   748.690645  15.041884  2021-11-22"
      ]
     },
     "execution_count": 10,
     "metadata": {},
     "output_type": "execute_result"
    }
   ],
   "source": [
    "df_rides.head(10)"
   ]
  },
  {
   "cell_type": "code",
   "execution_count": 11,
   "id": "604340ce",
   "metadata": {},
   "outputs": [
    {
     "data": {
      "text/html": [
       "<div>\n",
       "<style scoped>\n",
       "    .dataframe tbody tr th:only-of-type {\n",
       "        vertical-align: middle;\n",
       "    }\n",
       "\n",
       "    .dataframe tbody tr th {\n",
       "        vertical-align: top;\n",
       "    }\n",
       "\n",
       "    .dataframe thead th {\n",
       "        text-align: right;\n",
       "    }\n",
       "</style>\n",
       "<table border=\"1\" class=\"dataframe\">\n",
       "  <thead>\n",
       "    <tr style=\"text-align: right;\">\n",
       "      <th></th>\n",
       "      <th>user_id</th>\n",
       "      <th>distance</th>\n",
       "      <th>duration</th>\n",
       "    </tr>\n",
       "  </thead>\n",
       "  <tbody>\n",
       "    <tr>\n",
       "      <th>count</th>\n",
       "      <td>18068.000000</td>\n",
       "      <td>18068.000000</td>\n",
       "      <td>18068.000000</td>\n",
       "    </tr>\n",
       "    <tr>\n",
       "      <th>mean</th>\n",
       "      <td>842.869936</td>\n",
       "      <td>3070.659976</td>\n",
       "      <td>17.805011</td>\n",
       "    </tr>\n",
       "    <tr>\n",
       "      <th>std</th>\n",
       "      <td>434.734317</td>\n",
       "      <td>1116.831209</td>\n",
       "      <td>6.091051</td>\n",
       "    </tr>\n",
       "    <tr>\n",
       "      <th>min</th>\n",
       "      <td>1.000000</td>\n",
       "      <td>0.855683</td>\n",
       "      <td>0.500000</td>\n",
       "    </tr>\n",
       "    <tr>\n",
       "      <th>25%</th>\n",
       "      <td>487.000000</td>\n",
       "      <td>2543.226360</td>\n",
       "      <td>13.597563</td>\n",
       "    </tr>\n",
       "    <tr>\n",
       "      <th>50%</th>\n",
       "      <td>889.000000</td>\n",
       "      <td>3133.609994</td>\n",
       "      <td>17.678395</td>\n",
       "    </tr>\n",
       "    <tr>\n",
       "      <th>75%</th>\n",
       "      <td>1213.250000</td>\n",
       "      <td>3776.222735</td>\n",
       "      <td>21.724800</td>\n",
       "    </tr>\n",
       "    <tr>\n",
       "      <th>max</th>\n",
       "      <td>1534.000000</td>\n",
       "      <td>7211.007745</td>\n",
       "      <td>40.823963</td>\n",
       "    </tr>\n",
       "  </tbody>\n",
       "</table>\n",
       "</div>"
      ],
      "text/plain": [
       "            user_id      distance      duration\n",
       "count  18068.000000  18068.000000  18068.000000\n",
       "mean     842.869936   3070.659976     17.805011\n",
       "std      434.734317   1116.831209      6.091051\n",
       "min        1.000000      0.855683      0.500000\n",
       "25%      487.000000   2543.226360     13.597563\n",
       "50%      889.000000   3133.609994     17.678395\n",
       "75%     1213.250000   3776.222735     21.724800\n",
       "max     1534.000000   7211.007745     40.823963"
      ]
     },
     "execution_count": 11,
     "metadata": {},
     "output_type": "execute_result"
    }
   ],
   "source": [
    "df_rides.describe()"
   ]
  },
  {
   "cell_type": "markdown",
   "id": "02266416",
   "metadata": {},
   "source": [
    "Установим топ-5 пользователей по колличеству  поездок"
   ]
  },
  {
   "cell_type": "code",
   "execution_count": 12,
   "id": "ad23e49e",
   "metadata": {},
   "outputs": [
    {
     "data": {
      "text/plain": [
       "1236    27\n",
       "1063    26\n",
       "783     26\n",
       "1204    24\n",
       "1149    23\n",
       "Name: user_id, dtype: int64"
      ]
     },
     "execution_count": 12,
     "metadata": {},
     "output_type": "execute_result"
    }
   ],
   "source": [
    "df_rides['user_id'].value_counts().sort_values(ascending=False).head()"
   ]
  },
  {
   "cell_type": "markdown",
   "id": "7412fd45",
   "metadata": {},
   "source": [
    "Пользователь с id-1236 совершил больше всех поездок - 27 шт."
   ]
  },
  {
   "cell_type": "markdown",
   "id": "4844b8db",
   "metadata": {},
   "source": [
    "Установим топ-10 пользователей с максимальной общей дистанцией проведенной в поездках"
   ]
  },
  {
   "cell_type": "code",
   "execution_count": 13,
   "id": "1bb6d409",
   "metadata": {},
   "outputs": [
    {
     "data": {
      "text/html": [
       "<div>\n",
       "<style scoped>\n",
       "    .dataframe tbody tr th:only-of-type {\n",
       "        vertical-align: middle;\n",
       "    }\n",
       "\n",
       "    .dataframe tbody tr th {\n",
       "        vertical-align: top;\n",
       "    }\n",
       "\n",
       "    .dataframe thead th {\n",
       "        text-align: right;\n",
       "    }\n",
       "</style>\n",
       "<table border=\"1\" class=\"dataframe\">\n",
       "  <thead>\n",
       "    <tr style=\"text-align: right;\">\n",
       "      <th></th>\n",
       "      <th>distance</th>\n",
       "      <th>duration</th>\n",
       "    </tr>\n",
       "    <tr>\n",
       "      <th>user_id</th>\n",
       "      <th></th>\n",
       "      <th></th>\n",
       "    </tr>\n",
       "  </thead>\n",
       "  <tbody>\n",
       "    <tr>\n",
       "      <th>1063</th>\n",
       "      <td>79325.846482</td>\n",
       "      <td>440.533761</td>\n",
       "    </tr>\n",
       "    <tr>\n",
       "      <th>1236</th>\n",
       "      <td>78744.976586</td>\n",
       "      <td>446.233013</td>\n",
       "    </tr>\n",
       "    <tr>\n",
       "      <th>1361</th>\n",
       "      <td>77773.501423</td>\n",
       "      <td>408.979310</td>\n",
       "    </tr>\n",
       "    <tr>\n",
       "      <th>1468</th>\n",
       "      <td>77392.080789</td>\n",
       "      <td>429.513327</td>\n",
       "    </tr>\n",
       "    <tr>\n",
       "      <th>1374</th>\n",
       "      <td>74901.673366</td>\n",
       "      <td>394.418821</td>\n",
       "    </tr>\n",
       "    <tr>\n",
       "      <th>895</th>\n",
       "      <td>74266.723567</td>\n",
       "      <td>417.896744</td>\n",
       "    </tr>\n",
       "    <tr>\n",
       "      <th>1204</th>\n",
       "      <td>72873.754697</td>\n",
       "      <td>432.153686</td>\n",
       "    </tr>\n",
       "    <tr>\n",
       "      <th>1383</th>\n",
       "      <td>71564.205631</td>\n",
       "      <td>401.388850</td>\n",
       "    </tr>\n",
       "    <tr>\n",
       "      <th>1217</th>\n",
       "      <td>71525.424486</td>\n",
       "      <td>355.845697</td>\n",
       "    </tr>\n",
       "    <tr>\n",
       "      <th>1419</th>\n",
       "      <td>71074.358791</td>\n",
       "      <td>403.344101</td>\n",
       "    </tr>\n",
       "  </tbody>\n",
       "</table>\n",
       "</div>"
      ],
      "text/plain": [
       "             distance    duration\n",
       "user_id                          \n",
       "1063     79325.846482  440.533761\n",
       "1236     78744.976586  446.233013\n",
       "1361     77773.501423  408.979310\n",
       "1468     77392.080789  429.513327\n",
       "1374     74901.673366  394.418821\n",
       "895      74266.723567  417.896744\n",
       "1204     72873.754697  432.153686\n",
       "1383     71564.205631  401.388850\n",
       "1217     71525.424486  355.845697\n",
       "1419     71074.358791  403.344101"
      ]
     },
     "execution_count": 13,
     "metadata": {},
     "output_type": "execute_result"
    }
   ],
   "source": [
    "df_rides.groupby(['user_id']).sum().sort_values(by='distance', ascending=False).head(10)"
   ]
  },
  {
   "cell_type": "markdown",
   "id": "f5184c12",
   "metadata": {},
   "source": [
    "Пользователь с id-1063 проехал в сумме дистанцию 79,3 км за общее время примерно 7 часов. "
   ]
  },
  {
   "cell_type": "markdown",
   "id": "13af359b",
   "metadata": {},
   "source": [
    "Прочитаем и рассмотрим датафрейм **Подписки**"
   ]
  },
  {
   "cell_type": "code",
   "execution_count": 14,
   "id": "6d82934d",
   "metadata": {},
   "outputs": [],
   "source": [
    "try:\n",
    "    df_sub = pd.read_csv('/datasets/subscriptions_go.csv')\n",
    "except:\n",
    "    df_sub = pd.read_csv('https://code.s3.yandex.net/datasets/subscriptions_go.csv')"
   ]
  },
  {
   "cell_type": "code",
   "execution_count": 15,
   "id": "941d3dbb",
   "metadata": {},
   "outputs": [
    {
     "name": "stdout",
     "output_type": "stream",
     "text": [
      "<class 'pandas.core.frame.DataFrame'>\n",
      "RangeIndex: 2 entries, 0 to 1\n",
      "Data columns (total 4 columns):\n",
      " #   Column             Non-Null Count  Dtype \n",
      "---  ------             --------------  ----- \n",
      " 0   subscription_type  2 non-null      object\n",
      " 1   minute_price       2 non-null      int64 \n",
      " 2   start_ride_price   2 non-null      int64 \n",
      " 3   subscription_fee   2 non-null      int64 \n",
      "dtypes: int64(3), object(1)\n",
      "memory usage: 192.0+ bytes\n"
     ]
    }
   ],
   "source": [
    "df_sub.info()"
   ]
  },
  {
   "cell_type": "markdown",
   "id": "e0fc39bc",
   "metadata": {},
   "source": [
    "Формат данных корректный, стилистика столбцов не нарушена.\n"
   ]
  },
  {
   "cell_type": "code",
   "execution_count": 16,
   "id": "28d9d039",
   "metadata": {},
   "outputs": [
    {
     "data": {
      "text/html": [
       "<div>\n",
       "<style scoped>\n",
       "    .dataframe tbody tr th:only-of-type {\n",
       "        vertical-align: middle;\n",
       "    }\n",
       "\n",
       "    .dataframe tbody tr th {\n",
       "        vertical-align: top;\n",
       "    }\n",
       "\n",
       "    .dataframe thead th {\n",
       "        text-align: right;\n",
       "    }\n",
       "</style>\n",
       "<table border=\"1\" class=\"dataframe\">\n",
       "  <thead>\n",
       "    <tr style=\"text-align: right;\">\n",
       "      <th></th>\n",
       "      <th>subscription_type</th>\n",
       "      <th>minute_price</th>\n",
       "      <th>start_ride_price</th>\n",
       "      <th>subscription_fee</th>\n",
       "    </tr>\n",
       "  </thead>\n",
       "  <tbody>\n",
       "    <tr>\n",
       "      <th>0</th>\n",
       "      <td>free</td>\n",
       "      <td>8</td>\n",
       "      <td>50</td>\n",
       "      <td>0</td>\n",
       "    </tr>\n",
       "    <tr>\n",
       "      <th>1</th>\n",
       "      <td>ultra</td>\n",
       "      <td>6</td>\n",
       "      <td>0</td>\n",
       "      <td>199</td>\n",
       "    </tr>\n",
       "  </tbody>\n",
       "</table>\n",
       "</div>"
      ],
      "text/plain": [
       "  subscription_type  minute_price  start_ride_price  subscription_fee\n",
       "0              free             8                50                 0\n",
       "1             ultra             6                 0               199"
      ]
     },
     "execution_count": 16,
     "metadata": {},
     "output_type": "execute_result"
    }
   ],
   "source": [
    "df_sub"
   ]
  },
  {
   "cell_type": "markdown",
   "id": "32f37892",
   "metadata": {},
   "source": [
    "Данные по подпискам совпадают с заявленными"
   ]
  },
  {
   "cell_type": "markdown",
   "id": "5e696797",
   "metadata": {},
   "source": [
    "### Вывод\n",
    "\n",
    "Прочитали и рассмотрели данные из трех датафреймов.\n",
    "\n",
    "- Возраст пользователей аренды самокатов от 12 до 43 лет, средний возраст пользователя  - 25 лет.\n",
    "- Распределение пользователей по городам +- одинаковое (больше всего пользователей из Пятигорска, меньше из Москвы)\n",
    "- Чуть больше пользователей с бесплатным тарифом \n",
    "- Есть недочет в формате данных столбца date, займемся им на следующем этапе"
   ]
  },
  {
   "cell_type": "markdown",
   "id": "bbe5ca6e",
   "metadata": {},
   "source": [
    "## Этап 2. Предобработка данных"
   ]
  },
  {
   "cell_type": "markdown",
   "id": "8d388fc4",
   "metadata": {},
   "source": [
    "Проверим пропуски в таблицах"
   ]
  },
  {
   "cell_type": "code",
   "execution_count": 17,
   "id": "ca56c0d5",
   "metadata": {},
   "outputs": [
    {
     "data": {
      "text/plain": [
       "user_id              0\n",
       "name                 0\n",
       "age                  0\n",
       "city                 0\n",
       "subscription_type    0\n",
       "dtype: int64"
      ]
     },
     "execution_count": 17,
     "metadata": {},
     "output_type": "execute_result"
    }
   ],
   "source": [
    "df_users.isna().sum()"
   ]
  },
  {
   "cell_type": "code",
   "execution_count": 18,
   "id": "144b2cb4",
   "metadata": {},
   "outputs": [
    {
     "data": {
      "text/plain": [
       "user_id     0\n",
       "distance    0\n",
       "duration    0\n",
       "date        0\n",
       "dtype: int64"
      ]
     },
     "execution_count": 18,
     "metadata": {},
     "output_type": "execute_result"
    }
   ],
   "source": [
    "df_rides.isna().sum()"
   ]
  },
  {
   "cell_type": "code",
   "execution_count": 19,
   "id": "c109afc3",
   "metadata": {},
   "outputs": [
    {
     "data": {
      "text/plain": [
       "subscription_type    0\n",
       "minute_price         0\n",
       "start_ride_price     0\n",
       "subscription_fee     0\n",
       "dtype: int64"
      ]
     },
     "execution_count": 19,
     "metadata": {},
     "output_type": "execute_result"
    }
   ],
   "source": [
    "df_sub.isna().sum()"
   ]
  },
  {
   "cell_type": "markdown",
   "id": "67040ef6",
   "metadata": {},
   "source": [
    "Приведем к типу даты уже ранее замеченный не корректный формат столбеца date из датафрейма df_rides"
   ]
  },
  {
   "cell_type": "code",
   "execution_count": 20,
   "id": "32f8c364",
   "metadata": {},
   "outputs": [
    {
     "data": {
      "text/plain": [
       "0   2021-01-01\n",
       "1   2021-01-18\n",
       "2   2021-04-20\n",
       "3   2021-08-11\n",
       "4   2021-08-28\n",
       "Name: date, dtype: datetime64[ns]"
      ]
     },
     "execution_count": 20,
     "metadata": {},
     "output_type": "execute_result"
    }
   ],
   "source": [
    "df_rides['date'] = pd.to_datetime(df_rides['date'], format = '%Y-%m-%d')\n",
    "df_rides['date'].head()"
   ]
  },
  {
   "cell_type": "markdown",
   "id": "a3d2432f",
   "metadata": {},
   "source": [
    "Создадим новый столбец с номером месяца на основе столбца date"
   ]
  },
  {
   "cell_type": "code",
   "execution_count": 21,
   "id": "5ed6fc83",
   "metadata": {
    "scrolled": true
   },
   "outputs": [
    {
     "data": {
      "text/html": [
       "<div>\n",
       "<style scoped>\n",
       "    .dataframe tbody tr th:only-of-type {\n",
       "        vertical-align: middle;\n",
       "    }\n",
       "\n",
       "    .dataframe tbody tr th {\n",
       "        vertical-align: top;\n",
       "    }\n",
       "\n",
       "    .dataframe thead th {\n",
       "        text-align: right;\n",
       "    }\n",
       "</style>\n",
       "<table border=\"1\" class=\"dataframe\">\n",
       "  <thead>\n",
       "    <tr style=\"text-align: right;\">\n",
       "      <th></th>\n",
       "      <th>user_id</th>\n",
       "      <th>distance</th>\n",
       "      <th>duration</th>\n",
       "      <th>date</th>\n",
       "      <th>month</th>\n",
       "    </tr>\n",
       "  </thead>\n",
       "  <tbody>\n",
       "    <tr>\n",
       "      <th>6609</th>\n",
       "      <td>707</td>\n",
       "      <td>3223.172899</td>\n",
       "      <td>17.408277</td>\n",
       "      <td>2021-08-05</td>\n",
       "      <td>8</td>\n",
       "    </tr>\n",
       "    <tr>\n",
       "      <th>14662</th>\n",
       "      <td>1291</td>\n",
       "      <td>3044.643196</td>\n",
       "      <td>17.133930</td>\n",
       "      <td>2021-10-23</td>\n",
       "      <td>10</td>\n",
       "    </tr>\n",
       "    <tr>\n",
       "      <th>3117</th>\n",
       "      <td>336</td>\n",
       "      <td>2892.182864</td>\n",
       "      <td>11.676549</td>\n",
       "      <td>2021-03-04</td>\n",
       "      <td>3</td>\n",
       "    </tr>\n",
       "    <tr>\n",
       "      <th>17372</th>\n",
       "      <td>1486</td>\n",
       "      <td>2696.624579</td>\n",
       "      <td>12.778481</td>\n",
       "      <td>2021-12-26</td>\n",
       "      <td>12</td>\n",
       "    </tr>\n",
       "    <tr>\n",
       "      <th>14100</th>\n",
       "      <td>1252</td>\n",
       "      <td>3524.979584</td>\n",
       "      <td>20.134568</td>\n",
       "      <td>2021-05-07</td>\n",
       "      <td>5</td>\n",
       "    </tr>\n",
       "    <tr>\n",
       "      <th>17199</th>\n",
       "      <td>1474</td>\n",
       "      <td>3876.708827</td>\n",
       "      <td>24.892502</td>\n",
       "      <td>2021-02-27</td>\n",
       "      <td>2</td>\n",
       "    </tr>\n",
       "    <tr>\n",
       "      <th>2965</th>\n",
       "      <td>318</td>\n",
       "      <td>3069.466404</td>\n",
       "      <td>16.673666</td>\n",
       "      <td>2021-11-06</td>\n",
       "      <td>11</td>\n",
       "    </tr>\n",
       "    <tr>\n",
       "      <th>8144</th>\n",
       "      <td>821</td>\n",
       "      <td>3643.891645</td>\n",
       "      <td>18.808339</td>\n",
       "      <td>2021-06-24</td>\n",
       "      <td>6</td>\n",
       "    </tr>\n",
       "    <tr>\n",
       "      <th>1749</th>\n",
       "      <td>189</td>\n",
       "      <td>2617.392966</td>\n",
       "      <td>9.543482</td>\n",
       "      <td>2021-06-09</td>\n",
       "      <td>6</td>\n",
       "    </tr>\n",
       "    <tr>\n",
       "      <th>5785</th>\n",
       "      <td>616</td>\n",
       "      <td>3183.347290</td>\n",
       "      <td>16.095278</td>\n",
       "      <td>2021-08-07</td>\n",
       "      <td>8</td>\n",
       "    </tr>\n",
       "  </tbody>\n",
       "</table>\n",
       "</div>"
      ],
      "text/plain": [
       "       user_id     distance   duration       date  month\n",
       "6609       707  3223.172899  17.408277 2021-08-05      8\n",
       "14662     1291  3044.643196  17.133930 2021-10-23     10\n",
       "3117       336  2892.182864  11.676549 2021-03-04      3\n",
       "17372     1486  2696.624579  12.778481 2021-12-26     12\n",
       "14100     1252  3524.979584  20.134568 2021-05-07      5\n",
       "17199     1474  3876.708827  24.892502 2021-02-27      2\n",
       "2965       318  3069.466404  16.673666 2021-11-06     11\n",
       "8144       821  3643.891645  18.808339 2021-06-24      6\n",
       "1749       189  2617.392966   9.543482 2021-06-09      6\n",
       "5785       616  3183.347290  16.095278 2021-08-07      8"
      ]
     },
     "execution_count": 21,
     "metadata": {},
     "output_type": "execute_result"
    }
   ],
   "source": [
    "df_rides['month'] = df_rides['date'].dt.month\n",
    "df_rides.sample(10)"
   ]
  },
  {
   "cell_type": "markdown",
   "id": "3388d9d9",
   "metadata": {},
   "source": [
    "Рассмотрим явные дубликаты в таблицах Пользователи и Поездки"
   ]
  },
  {
   "cell_type": "code",
   "execution_count": 22,
   "id": "8f59e7dc",
   "metadata": {
    "scrolled": false
   },
   "outputs": [
    {
     "data": {
      "text/plain": [
       "31"
      ]
     },
     "execution_count": 22,
     "metadata": {},
     "output_type": "execute_result"
    }
   ],
   "source": [
    "df_users.duplicated().sum()"
   ]
  },
  {
   "cell_type": "markdown",
   "id": "be41a2d1",
   "metadata": {},
   "source": [
    "Удаляем явные дубликаты"
   ]
  },
  {
   "cell_type": "code",
   "execution_count": 23,
   "id": "4f3c738b",
   "metadata": {
    "scrolled": true
   },
   "outputs": [
    {
     "data": {
      "text/plain": [
       "0"
      ]
     },
     "execution_count": 23,
     "metadata": {},
     "output_type": "execute_result"
    }
   ],
   "source": [
    "df_users.drop_duplicates(inplace=True)\n",
    "df_users.duplicated().sum()"
   ]
  },
  {
   "cell_type": "markdown",
   "id": "64bbe98f",
   "metadata": {},
   "source": [
    "Так же проверим дубликаты по сумме ключевых параметров (подмножеству)"
   ]
  },
  {
   "cell_type": "code",
   "execution_count": 24,
   "id": "4b20817b",
   "metadata": {},
   "outputs": [
    {
     "data": {
      "text/html": [
       "<div>\n",
       "<style scoped>\n",
       "    .dataframe tbody tr th:only-of-type {\n",
       "        vertical-align: middle;\n",
       "    }\n",
       "\n",
       "    .dataframe tbody tr th {\n",
       "        vertical-align: top;\n",
       "    }\n",
       "\n",
       "    .dataframe thead th {\n",
       "        text-align: right;\n",
       "    }\n",
       "</style>\n",
       "<table border=\"1\" class=\"dataframe\">\n",
       "  <thead>\n",
       "    <tr style=\"text-align: right;\">\n",
       "      <th></th>\n",
       "      <th>user_id</th>\n",
       "      <th>name</th>\n",
       "      <th>age</th>\n",
       "      <th>city</th>\n",
       "      <th>subscription_type</th>\n",
       "    </tr>\n",
       "  </thead>\n",
       "  <tbody>\n",
       "  </tbody>\n",
       "</table>\n",
       "</div>"
      ],
      "text/plain": [
       "Empty DataFrame\n",
       "Columns: [user_id, name, age, city, subscription_type]\n",
       "Index: []"
      ]
     },
     "execution_count": 24,
     "metadata": {},
     "output_type": "execute_result"
    }
   ],
   "source": [
    "duplicate_users = df_users[df_users.duplicated(['user_id'])]\n",
    "duplicate_users"
   ]
  },
  {
   "cell_type": "code",
   "execution_count": 25,
   "id": "735b05e5",
   "metadata": {},
   "outputs": [
    {
     "data": {
      "text/html": [
       "<div>\n",
       "<style scoped>\n",
       "    .dataframe tbody tr th:only-of-type {\n",
       "        vertical-align: middle;\n",
       "    }\n",
       "\n",
       "    .dataframe tbody tr th {\n",
       "        vertical-align: top;\n",
       "    }\n",
       "\n",
       "    .dataframe thead th {\n",
       "        text-align: right;\n",
       "    }\n",
       "</style>\n",
       "<table border=\"1\" class=\"dataframe\">\n",
       "  <thead>\n",
       "    <tr style=\"text-align: right;\">\n",
       "      <th></th>\n",
       "      <th>user_id</th>\n",
       "      <th>name</th>\n",
       "      <th>age</th>\n",
       "      <th>city</th>\n",
       "      <th>subscription_type</th>\n",
       "    </tr>\n",
       "  </thead>\n",
       "  <tbody>\n",
       "  </tbody>\n",
       "</table>\n",
       "</div>"
      ],
      "text/plain": [
       "Empty DataFrame\n",
       "Columns: [user_id, name, age, city, subscription_type]\n",
       "Index: []"
      ]
     },
     "execution_count": 25,
     "metadata": {},
     "output_type": "execute_result"
    }
   ],
   "source": [
    "duplicate_users_n = df_users[df_users.duplicated(['user_id', 'subscription_type'])]\n",
    "duplicate_users_n "
   ]
  },
  {
   "cell_type": "code",
   "execution_count": 26,
   "id": "78bb69bf",
   "metadata": {},
   "outputs": [
    {
     "data": {
      "text/plain": [
       "0"
      ]
     },
     "execution_count": 26,
     "metadata": {},
     "output_type": "execute_result"
    }
   ],
   "source": [
    "df_rides.duplicated().sum()"
   ]
  },
  {
   "cell_type": "markdown",
   "id": "b812081c",
   "metadata": {},
   "source": [
    "### Вывод\n",
    "Предобработка данных совершена успешно:\n",
    "- пропущенных данных в таблицах нет\n",
    "- привели столбец date в корректный формат\n",
    "- добавили столбец month с номером месяца\n",
    "- удалили строки-дубликаты в пользователях"
   ]
  },
  {
   "cell_type": "markdown",
   "id": "5d1c4866",
   "metadata": {},
   "source": [
    "## Этап 3. Исследовательский анализ данных"
   ]
  },
  {
   "cell_type": "markdown",
   "id": "81773fdc",
   "metadata": {},
   "source": [
    "### 3.1 частота встречаемости городов"
   ]
  },
  {
   "cell_type": "markdown",
   "id": "d62276cd",
   "metadata": {},
   "source": [
    "Рассмотрим распределение всех пользователей по городам"
   ]
  },
  {
   "cell_type": "code",
   "execution_count": 27,
   "id": "e8642980",
   "metadata": {
    "scrolled": false
   },
   "outputs": [
    {
     "data": {
      "text/plain": [
       "Пятигорск         219\n",
       "Екатеринбург      204\n",
       "Ростов-на-Дону    198\n",
       "Краснодар         193\n",
       "Сочи              189\n",
       "Омск              183\n",
       "Тюмень            180\n",
       "Москва            168\n",
       "Name: city, dtype: int64"
      ]
     },
     "execution_count": 27,
     "metadata": {},
     "output_type": "execute_result"
    },
    {
     "data": {
      "image/png": "[encoded data removed]",
      "text/plain": [
       "<Figure size 1900x1000 with 1 Axes>"
      ]
     },
     "metadata": {},
     "output_type": "display_data"
    }
   ],
   "source": [
    "df_users['city'].value_counts().plot(\n",
    "    kind = 'barh',\n",
    "    figsize = (19,10), \n",
    "    legend = False, \n",
    "    fontsize = 22,  \n",
    "    grid=True,\n",
    ")\n",
    "plt.title('Распределение пользователей по городам' + \"\\n\", fontsize=27, color='Green')\n",
    "plt.xlabel('Количество пользователей', fontsize=22, color='Blue')\n",
    "plt.ylabel('Города', fontsize=22, color='Blue')\n",
    "\n",
    "df_users['city'].value_counts()"
   ]
  },
  {
   "cell_type": "markdown",
   "id": "338371b1",
   "metadata": {},
   "source": [
    "Больше всего пользователей из Пятигорска, не значительно но всё-таки меньше всех из Москвы. В остальных городах пользователи распределны равномерно. Такая картина подтверждает что выборка репрезентативна. "
   ]
  },
  {
   "cell_type": "markdown",
   "id": "e0e4bd99",
   "metadata": {},
   "source": [
    "### 3.2 соотношение пользователей с подпиской и без подписки"
   ]
  },
  {
   "cell_type": "markdown",
   "id": "ca9f0606",
   "metadata": {},
   "source": [
    "Рассмотрим как распределны пользователи в зависимости от выбранного тарифа (free, ultra)"
   ]
  },
  {
   "cell_type": "code",
   "execution_count": 28,
   "id": "e8c62dd1",
   "metadata": {
    "scrolled": false
   },
   "outputs": [
    {
     "data": {
      "text/plain": [
       "free     835\n",
       "ultra    699\n",
       "Name: subscription_type, dtype: int64"
      ]
     },
     "execution_count": 28,
     "metadata": {},
     "output_type": "execute_result"
    },
    {
     "data": {
      "image/png": "[encoded data removed]",
      "text/plain": [
       "<Figure size 800x800 with 1 Axes>"
      ]
     },
     "metadata": {},
     "output_type": "display_data"
    }
   ],
   "source": [
    "df_users['subscription_type'].value_counts().plot(\n",
    "    kind = 'pie', \n",
    "    autopct = '%1.0f%%', \n",
    "    figsize=(8,8),\n",
    "    title = 'Распределение пользователей в зависимости от типа подписки'\n",
    ")\n",
    "\n",
    "df_users['subscription_type'].value_counts()"
   ]
  },
  {
   "cell_type": "markdown",
   "id": "05face75",
   "metadata": {},
   "source": [
    "Пользователей, не использующих подписку больше - 835 человек, что является 54% от общего числа пользователей.\n",
    "\n",
    "На платной подписке ultra 699 пользователей, что соответственно является 46%."
   ]
  },
  {
   "cell_type": "markdown",
   "id": "83ec265b",
   "metadata": {},
   "source": [
    "### 3.3 возраст пользователей"
   ]
  },
  {
   "cell_type": "markdown",
   "id": "a25cf46f",
   "metadata": {},
   "source": [
    "Рассмотрим средние, максимальные и минимальные значения"
   ]
  },
  {
   "cell_type": "code",
   "execution_count": 29,
   "id": "6c2ff20e",
   "metadata": {
    "scrolled": true
   },
   "outputs": [
    {
     "data": {
      "text/plain": [
       "count    1534.000000\n",
       "mean       24.903520\n",
       "std         4.572367\n",
       "min        12.000000\n",
       "25%        22.000000\n",
       "50%        25.000000\n",
       "75%        28.000000\n",
       "max        43.000000\n",
       "Name: age, dtype: float64"
      ]
     },
     "execution_count": 29,
     "metadata": {},
     "output_type": "execute_result"
    }
   ],
   "source": [
    "df_users['age'].describe()"
   ]
  },
  {
   "cell_type": "markdown",
   "id": "21e048e3",
   "metadata": {},
   "source": [
    "Самому страшему пользователю 43 года, самому младшему 12 лет. Медиана и среднее точны - средний возраст пользователя - 25 лет."
   ]
  },
  {
   "cell_type": "markdown",
   "id": "3a881d35",
   "metadata": {},
   "source": [
    "Наглядно рассмотрим разброс возраста всех пользователей. Для этого построим гистограмму."
   ]
  },
  {
   "cell_type": "code",
   "execution_count": 30,
   "id": "22d886cf",
   "metadata": {},
   "outputs": [
    {
     "data": {
      "image/png": "[encoded data removed]",
      "text/plain": [
       "<Figure size 1000x500 with 1 Axes>"
      ]
     },
     "metadata": {},
     "output_type": "display_data"
    }
   ],
   "source": [
    "df_users['age'].hist(bins=30, figsize=(10, 5), legend=True, grid=True)\n",
    "plt.title('Возраст пользователей')\n",
    "plt.xlabel('Возраст')\n",
    "plt.ylabel('Количество пользователей')\n",
    "plt.show()"
   ]
  },
  {
   "cell_type": "markdown",
   "id": "d4609d25",
   "metadata": {},
   "source": [
    "Основной возраст пользователей 20-30 лет. Средний и самый распространенный возраст - 25 лет."
   ]
  },
  {
   "cell_type": "markdown",
   "id": "077b072f",
   "metadata": {},
   "source": [
    "### 3.4 расстояние, которое пользователь преодолел за одну поездку"
   ]
  },
  {
   "cell_type": "markdown",
   "id": "735fadd8",
   "metadata": {},
   "source": [
    "Рассмотрим средние, максимальные и минимальные значения"
   ]
  },
  {
   "cell_type": "code",
   "execution_count": 31,
   "id": "71563f56",
   "metadata": {},
   "outputs": [
    {
     "data": {
      "text/plain": [
       "count    18068.00\n",
       "mean      3070.66\n",
       "std       1116.83\n",
       "min          0.86\n",
       "25%       2543.23\n",
       "50%       3133.61\n",
       "75%       3776.22\n",
       "max       7211.01\n",
       "Name: distance, dtype: float64"
      ]
     },
     "execution_count": 31,
     "metadata": {},
     "output_type": "execute_result"
    }
   ],
   "source": [
    "df_rides['distance'].describe().round(2)"
   ]
  },
  {
   "cell_type": "markdown",
   "id": "2e290e84",
   "metadata": {},
   "source": [
    "Самая длинная поездка  - 7,2 км, самая короткая - меньше метра :) "
   ]
  },
  {
   "cell_type": "markdown",
   "id": "45b89b17",
   "metadata": {},
   "source": [
    "Топ-10 саммых длинных расстояний за одну поездку"
   ]
  },
  {
   "cell_type": "code",
   "execution_count": 32,
   "id": "9d45e436",
   "metadata": {
    "scrolled": true
   },
   "outputs": [
    {
     "data": {
      "text/plain": [
       "16309    7211.01\n",
       "16484    7066.00\n",
       "15580    6908.49\n",
       "17171    6760.94\n",
       "17242    6724.93\n",
       "10341    6671.97\n",
       "11385    6601.20\n",
       "12086    6538.94\n",
       "10915    6535.39\n",
       "11319    6503.60\n",
       "Name: distance, dtype: float64"
      ]
     },
     "execution_count": 32,
     "metadata": {},
     "output_type": "execute_result"
    }
   ],
   "source": [
    "df_rides['distance'].sort_values(ascending=False).head(10).round(2)"
   ]
  },
  {
   "cell_type": "markdown",
   "id": "2a1d6c80",
   "metadata": {},
   "source": [
    "Топ-10 саммых коротких расстояний за одну поездку"
   ]
  },
  {
   "cell_type": "code",
   "execution_count": 33,
   "id": "0a0f9ae1",
   "metadata": {
    "scrolled": false
   },
   "outputs": [
    {
     "data": {
      "text/plain": [
       "11555     0.86\n",
       "9541      2.57\n",
       "13690     4.33\n",
       "8658      6.78\n",
       "7841      7.10\n",
       "8906     11.28\n",
       "8324     12.23\n",
       "13940    15.00\n",
       "15626    15.37\n",
       "11862    15.63\n",
       "Name: distance, dtype: float64"
      ]
     },
     "execution_count": 33,
     "metadata": {},
     "output_type": "execute_result"
    }
   ],
   "source": [
    "df_rides['distance'].sort_values().head(10).round(2)"
   ]
  },
  {
   "cell_type": "markdown",
   "id": "dfaa20fe",
   "metadata": {},
   "source": [
    "Самая короткая дистанция меньше метра, это подозрительно, но скорее всего связано с тем что пользователь передумал брать самокат, либо самокат оказался неисправным."
   ]
  },
  {
   "cell_type": "markdown",
   "id": "f5d77c90",
   "metadata": {},
   "source": [
    "Для визуализации расстояния, которое пользователь преодолел за одну поездку построим диаграмму размаха"
   ]
  },
  {
   "cell_type": "code",
   "execution_count": 34,
   "id": "37138e47",
   "metadata": {
    "scrolled": false
   },
   "outputs": [
    {
     "data": {
      "image/png": "[encoded data removed]",
      "text/plain": [
       "<Figure size 640x480 with 1 Axes>"
      ]
     },
     "metadata": {},
     "output_type": "display_data"
    }
   ],
   "source": [
    "df_rides.boxplot(column='distance')\n",
    "plt.ylim(0, 8000)\n",
    "plt.title('Расстояние, преодоленное за одну поездку')\n",
    "plt.ylabel('Расстояние, м')\n",
    "plt.show()"
   ]
  },
  {
   "cell_type": "markdown",
   "id": "a1d22bde",
   "metadata": {},
   "source": [
    "В основном все пользователи проезжают дистанцию от 2,5 до 3,8 км."
   ]
  },
  {
   "cell_type": "code",
   "execution_count": 35,
   "id": "c23ecf0e",
   "metadata": {
    "scrolled": false
   },
   "outputs": [
    {
     "data": {
      "image/png": "[encoded data removed]",
      "text/plain": [
       "<Figure size 1000x500 with 1 Axes>"
      ]
     },
     "metadata": {},
     "output_type": "display_data"
    }
   ],
   "source": [
    "df_rides['distance'].hist(bins=30, figsize=(10, 5), legend=True, grid=True)\n",
    "plt.title('Расстояние, преодоленное за одну поездку')\n",
    "plt.xlim(0, 8000)\n",
    "plt.xlabel('Расстояние в метрах')\n",
    "plt.ylabel('Количество пользователей')\n",
    "plt.show()"
   ]
  },
  {
   "cell_type": "markdown",
   "id": "9e67dd9e",
   "metadata": {},
   "source": [
    "### 3.5 продолжительность поездок"
   ]
  },
  {
   "cell_type": "markdown",
   "id": "e8333ede",
   "metadata": {},
   "source": [
    "Рассмотрим средние, максимальные и минимальные значения"
   ]
  },
  {
   "cell_type": "code",
   "execution_count": 36,
   "id": "0318c909",
   "metadata": {
    "scrolled": false
   },
   "outputs": [
    {
     "data": {
      "text/plain": [
       "count    18068.00\n",
       "mean        17.81\n",
       "std          6.09\n",
       "min          0.50\n",
       "25%         13.60\n",
       "50%         17.68\n",
       "75%         21.72\n",
       "max         40.82\n",
       "Name: duration, dtype: float64"
      ]
     },
     "execution_count": 36,
     "metadata": {},
     "output_type": "execute_result"
    }
   ],
   "source": [
    "df_rides['duration'].describe().round(2)"
   ]
  },
  {
   "cell_type": "markdown",
   "id": "2edd531c",
   "metadata": {},
   "source": [
    "Самая долгая поездка - 41 минута, самая короткая - 30 секунд"
   ]
  },
  {
   "cell_type": "markdown",
   "id": "34a21773",
   "metadata": {},
   "source": [
    "Топ-10 самых длительных поездок"
   ]
  },
  {
   "cell_type": "code",
   "execution_count": 37,
   "id": "6d795387",
   "metadata": {},
   "outputs": [
    {
     "data": {
      "text/plain": [
       "4215    40.8\n",
       "4709    39.9\n",
       "2623    39.5\n",
       "1998    38.4\n",
       "6453    38.3\n",
       "143     38.1\n",
       "3729    37.0\n",
       "499     36.9\n",
       "6348    36.8\n",
       "4653    36.6\n",
       "Name: duration, dtype: float64"
      ]
     },
     "execution_count": 37,
     "metadata": {},
     "output_type": "execute_result"
    }
   ],
   "source": [
    "df_rides['duration'].sort_values(ascending=False).head(10).round(1)"
   ]
  },
  {
   "cell_type": "markdown",
   "id": "1d6967f8",
   "metadata": {},
   "source": [
    "Топ-10 самых быстрых поездок"
   ]
  },
  {
   "cell_type": "code",
   "execution_count": 38,
   "id": "03cabc0d",
   "metadata": {},
   "outputs": [
    {
     "data": {
      "text/plain": [
       "12013    0.5\n",
       "17314    0.5\n",
       "15029    0.5\n",
       "7437     0.5\n",
       "12967    0.5\n",
       "15015    0.5\n",
       "13012    0.5\n",
       "7508     0.5\n",
       "16589    0.5\n",
       "9049     0.5\n",
       "Name: duration, dtype: float64"
      ]
     },
     "execution_count": 38,
     "metadata": {},
     "output_type": "execute_result"
    }
   ],
   "source": [
    "df_rides['duration'].sort_values().head(10).round(1)"
   ]
  },
  {
   "cell_type": "markdown",
   "id": "fb220597",
   "metadata": {},
   "source": [
    "Достаточно много поездок по 30 секунд, это подозрительно, но скорее всего связано с тем что пользователь передумал брать самокат, либо самокат оказался неисправным."
   ]
  },
  {
   "cell_type": "markdown",
   "id": "4de5adfd",
   "metadata": {},
   "source": [
    "Для визуализации продолжительности поездок построим диаграмму размаха"
   ]
  },
  {
   "cell_type": "code",
   "execution_count": 39,
   "id": "15d983b6",
   "metadata": {},
   "outputs": [
    {
     "data": {
      "image/png": "[encoded data removed]",
      "text/plain": [
       "<Figure size 640x480 with 1 Axes>"
      ]
     },
     "metadata": {},
     "output_type": "display_data"
    }
   ],
   "source": [
    "df_rides.boxplot(column='duration')\n",
    "plt.ylim(0, 50)\n",
    "plt.title('Продолжительность поездок')\n",
    "plt.ylabel('Время, минуты')\n",
    "plt.show()"
   ]
  },
  {
   "cell_type": "markdown",
   "id": "c1347bd8",
   "metadata": {},
   "source": [
    "В основном продолжительность поездки составляет от 14 до 22 минут "
   ]
  },
  {
   "cell_type": "code",
   "execution_count": 40,
   "id": "c1388a0b",
   "metadata": {
    "scrolled": false
   },
   "outputs": [
    {
     "data": {
      "image/png": "[encoded data removed]",
      "text/plain": [
       "<Figure size 1000x500 with 1 Axes>"
      ]
     },
     "metadata": {},
     "output_type": "display_data"
    }
   ],
   "source": [
    "df_rides['duration'].hist(bins=30, figsize=(10, 5), legend=True, grid=True)\n",
    "plt.title('Продолжительность поездок')\n",
    "plt.xlim(0, 50)\n",
    "plt.xlabel('Время в минутах')\n",
    "plt.ylabel('Количество пользователей')\n",
    "plt.show()"
   ]
  },
  {
   "cell_type": "markdown",
   "id": "fb9c4ed5",
   "metadata": {},
   "source": [
    "Я бы под корректировала вывод и сказала, что в основном продолжительность поездки составляет от 10 до 25 минут "
   ]
  },
  {
   "cell_type": "markdown",
   "id": "47d2f7a1",
   "metadata": {},
   "source": [
    "### Вывод\n",
    "\n",
    "3.1 Количество пользователей по городам распределено примерно одинаково.\n",
    "\n",
    "Лидером по количеству пользователей является Пятигорск - 219 пользователей. \n",
    "\n",
    "Меньше всего пользователей в Москве - 168. \n",
    "\n",
    "Связано это скорее всего с тем, что Пятигорск по размерам в несколько раз меньше Москвы, т.е. в Пятигорске удобнее брать самокат, чтобы куда-то добраться.\n",
    "\n",
    "3.2 Пользователей, использующих бесплатную подписку больше - 835 человек, что является 54% от общего числа пользователей. \n",
    "\n",
    "На платной подписке 699 пользователей, что соответственно является 46%.\n",
    "\n",
    "3.3 Самому страшему пользователю 43 года.\n",
    "\n",
    "Самому младшему 12 лет. \n",
    "\n",
    "Средний возраст пользователя - 25 лет.\n",
    "\n",
    "В целом, пользователи приложения укладываются в промежуток от 20 до 30 лет.\n",
    "\n",
    "3.4 Самая короткая дистанция - 0.86 м., это подозрительно, но скорее всего связано с тем что пользователь передумал брать самокат, либо самокат оказался неисправным.\n",
    "\n",
    "Самая длинная - 7.2 км\n",
    "\n",
    "В основном пользователи проезжают от 2.5 км до 3,8 км.\n",
    "\n",
    "3.5 Самые короткие поездки - по пол минуты, но скорее всего связано с тем что пользователь передумал брать самокат, либо самокат оказался неисправным.\n",
    "\n",
    "Самая длинная поездка заняла 41 минуту.\n",
    "\n",
    "В целом же продолжительность поездки состовляет 10 - 25 минут."
   ]
  },
  {
   "cell_type": "markdown",
   "id": "deb3987d",
   "metadata": {},
   "source": [
    "## Этап 4. Объединение данных"
   ]
  },
  {
   "cell_type": "markdown",
   "id": "3baad485",
   "metadata": {},
   "source": [
    "Объединим данные о пользователях, поездках и подписках в один датафрейм."
   ]
  },
  {
   "cell_type": "code",
   "execution_count": 41,
   "id": "a3c2a53f",
   "metadata": {},
   "outputs": [
    {
     "data": {
      "text/html": [
       "<div>\n",
       "<style scoped>\n",
       "    .dataframe tbody tr th:only-of-type {\n",
       "        vertical-align: middle;\n",
       "    }\n",
       "\n",
       "    .dataframe tbody tr th {\n",
       "        vertical-align: top;\n",
       "    }\n",
       "\n",
       "    .dataframe thead th {\n",
       "        text-align: right;\n",
       "    }\n",
       "</style>\n",
       "<table border=\"1\" class=\"dataframe\">\n",
       "  <thead>\n",
       "    <tr style=\"text-align: right;\">\n",
       "      <th></th>\n",
       "      <th>user_id</th>\n",
       "      <th>name</th>\n",
       "      <th>age</th>\n",
       "      <th>city</th>\n",
       "      <th>subscription_type</th>\n",
       "      <th>distance</th>\n",
       "      <th>duration</th>\n",
       "      <th>date</th>\n",
       "      <th>month</th>\n",
       "      <th>minute_price</th>\n",
       "      <th>start_ride_price</th>\n",
       "      <th>subscription_fee</th>\n",
       "    </tr>\n",
       "  </thead>\n",
       "  <tbody>\n",
       "    <tr>\n",
       "      <th>0</th>\n",
       "      <td>1</td>\n",
       "      <td>Кира</td>\n",
       "      <td>22</td>\n",
       "      <td>Тюмень</td>\n",
       "      <td>ultra</td>\n",
       "      <td>4409.919140</td>\n",
       "      <td>25.599769</td>\n",
       "      <td>2021-01-01</td>\n",
       "      <td>1</td>\n",
       "      <td>6</td>\n",
       "      <td>0</td>\n",
       "      <td>199</td>\n",
       "    </tr>\n",
       "    <tr>\n",
       "      <th>1</th>\n",
       "      <td>1</td>\n",
       "      <td>Кира</td>\n",
       "      <td>22</td>\n",
       "      <td>Тюмень</td>\n",
       "      <td>ultra</td>\n",
       "      <td>2617.592153</td>\n",
       "      <td>15.816871</td>\n",
       "      <td>2021-01-18</td>\n",
       "      <td>1</td>\n",
       "      <td>6</td>\n",
       "      <td>0</td>\n",
       "      <td>199</td>\n",
       "    </tr>\n",
       "    <tr>\n",
       "      <th>2</th>\n",
       "      <td>1</td>\n",
       "      <td>Кира</td>\n",
       "      <td>22</td>\n",
       "      <td>Тюмень</td>\n",
       "      <td>ultra</td>\n",
       "      <td>754.159807</td>\n",
       "      <td>6.232113</td>\n",
       "      <td>2021-04-20</td>\n",
       "      <td>4</td>\n",
       "      <td>6</td>\n",
       "      <td>0</td>\n",
       "      <td>199</td>\n",
       "    </tr>\n",
       "    <tr>\n",
       "      <th>3</th>\n",
       "      <td>1</td>\n",
       "      <td>Кира</td>\n",
       "      <td>22</td>\n",
       "      <td>Тюмень</td>\n",
       "      <td>ultra</td>\n",
       "      <td>2694.783254</td>\n",
       "      <td>18.511000</td>\n",
       "      <td>2021-08-11</td>\n",
       "      <td>8</td>\n",
       "      <td>6</td>\n",
       "      <td>0</td>\n",
       "      <td>199</td>\n",
       "    </tr>\n",
       "    <tr>\n",
       "      <th>4</th>\n",
       "      <td>1</td>\n",
       "      <td>Кира</td>\n",
       "      <td>22</td>\n",
       "      <td>Тюмень</td>\n",
       "      <td>ultra</td>\n",
       "      <td>4028.687306</td>\n",
       "      <td>26.265803</td>\n",
       "      <td>2021-08-28</td>\n",
       "      <td>8</td>\n",
       "      <td>6</td>\n",
       "      <td>0</td>\n",
       "      <td>199</td>\n",
       "    </tr>\n",
       "    <tr>\n",
       "      <th>...</th>\n",
       "      <td>...</td>\n",
       "      <td>...</td>\n",
       "      <td>...</td>\n",
       "      <td>...</td>\n",
       "      <td>...</td>\n",
       "      <td>...</td>\n",
       "      <td>...</td>\n",
       "      <td>...</td>\n",
       "      <td>...</td>\n",
       "      <td>...</td>\n",
       "      <td>...</td>\n",
       "      <td>...</td>\n",
       "    </tr>\n",
       "    <tr>\n",
       "      <th>18063</th>\n",
       "      <td>1534</td>\n",
       "      <td>Альберт</td>\n",
       "      <td>25</td>\n",
       "      <td>Краснодар</td>\n",
       "      <td>free</td>\n",
       "      <td>3781.098080</td>\n",
       "      <td>19.822962</td>\n",
       "      <td>2021-11-04</td>\n",
       "      <td>11</td>\n",
       "      <td>8</td>\n",
       "      <td>50</td>\n",
       "      <td>0</td>\n",
       "    </tr>\n",
       "    <tr>\n",
       "      <th>18064</th>\n",
       "      <td>1534</td>\n",
       "      <td>Альберт</td>\n",
       "      <td>25</td>\n",
       "      <td>Краснодар</td>\n",
       "      <td>free</td>\n",
       "      <td>2840.423057</td>\n",
       "      <td>21.409799</td>\n",
       "      <td>2021-11-16</td>\n",
       "      <td>11</td>\n",
       "      <td>8</td>\n",
       "      <td>50</td>\n",
       "      <td>0</td>\n",
       "    </tr>\n",
       "    <tr>\n",
       "      <th>18065</th>\n",
       "      <td>1534</td>\n",
       "      <td>Альберт</td>\n",
       "      <td>25</td>\n",
       "      <td>Краснодар</td>\n",
       "      <td>free</td>\n",
       "      <td>3826.185507</td>\n",
       "      <td>18.435051</td>\n",
       "      <td>2021-11-18</td>\n",
       "      <td>11</td>\n",
       "      <td>8</td>\n",
       "      <td>50</td>\n",
       "      <td>0</td>\n",
       "    </tr>\n",
       "    <tr>\n",
       "      <th>18066</th>\n",
       "      <td>1534</td>\n",
       "      <td>Альберт</td>\n",
       "      <td>25</td>\n",
       "      <td>Краснодар</td>\n",
       "      <td>free</td>\n",
       "      <td>2902.308661</td>\n",
       "      <td>16.674362</td>\n",
       "      <td>2021-11-27</td>\n",
       "      <td>11</td>\n",
       "      <td>8</td>\n",
       "      <td>50</td>\n",
       "      <td>0</td>\n",
       "    </tr>\n",
       "    <tr>\n",
       "      <th>18067</th>\n",
       "      <td>1534</td>\n",
       "      <td>Альберт</td>\n",
       "      <td>25</td>\n",
       "      <td>Краснодар</td>\n",
       "      <td>free</td>\n",
       "      <td>2371.711192</td>\n",
       "      <td>15.893917</td>\n",
       "      <td>2021-12-29</td>\n",
       "      <td>12</td>\n",
       "      <td>8</td>\n",
       "      <td>50</td>\n",
       "      <td>0</td>\n",
       "    </tr>\n",
       "  </tbody>\n",
       "</table>\n",
       "<p>18068 rows × 12 columns</p>\n",
       "</div>"
      ],
      "text/plain": [
       "       user_id     name  age       city subscription_type     distance  \\\n",
       "0            1     Кира   22     Тюмень             ultra  4409.919140   \n",
       "1            1     Кира   22     Тюмень             ultra  2617.592153   \n",
       "2            1     Кира   22     Тюмень             ultra   754.159807   \n",
       "3            1     Кира   22     Тюмень             ultra  2694.783254   \n",
       "4            1     Кира   22     Тюмень             ultra  4028.687306   \n",
       "...        ...      ...  ...        ...               ...          ...   \n",
       "18063     1534  Альберт   25  Краснодар              free  3781.098080   \n",
       "18064     1534  Альберт   25  Краснодар              free  2840.423057   \n",
       "18065     1534  Альберт   25  Краснодар              free  3826.185507   \n",
       "18066     1534  Альберт   25  Краснодар              free  2902.308661   \n",
       "18067     1534  Альберт   25  Краснодар              free  2371.711192   \n",
       "\n",
       "        duration       date  month  minute_price  start_ride_price  \\\n",
       "0      25.599769 2021-01-01      1             6                 0   \n",
       "1      15.816871 2021-01-18      1             6                 0   \n",
       "2       6.232113 2021-04-20      4             6                 0   \n",
       "3      18.511000 2021-08-11      8             6                 0   \n",
       "4      26.265803 2021-08-28      8             6                 0   \n",
       "...          ...        ...    ...           ...               ...   \n",
       "18063  19.822962 2021-11-04     11             8                50   \n",
       "18064  21.409799 2021-11-16     11             8                50   \n",
       "18065  18.435051 2021-11-18     11             8                50   \n",
       "18066  16.674362 2021-11-27     11             8                50   \n",
       "18067  15.893917 2021-12-29     12             8                50   \n",
       "\n",
       "       subscription_fee  \n",
       "0                   199  \n",
       "1                   199  \n",
       "2                   199  \n",
       "3                   199  \n",
       "4                   199  \n",
       "...                 ...  \n",
       "18063                 0  \n",
       "18064                 0  \n",
       "18065                 0  \n",
       "18066                 0  \n",
       "18067                 0  \n",
       "\n",
       "[18068 rows x 12 columns]"
      ]
     },
     "execution_count": 41,
     "metadata": {},
     "output_type": "execute_result"
    }
   ],
   "source": [
    "df=df_users.merge(df_rides)\n",
    "df=df.merge(df_sub)\n",
    "df"
   ]
  },
  {
   "cell_type": "code",
   "execution_count": 42,
   "id": "67bdaee3",
   "metadata": {},
   "outputs": [
    {
     "name": "stdout",
     "output_type": "stream",
     "text": [
      "<class 'pandas.core.frame.DataFrame'>\n",
      "Int64Index: 1534 entries, 0 to 1533\n",
      "Data columns (total 5 columns):\n",
      " #   Column             Non-Null Count  Dtype \n",
      "---  ------             --------------  ----- \n",
      " 0   user_id            1534 non-null   int64 \n",
      " 1   name               1534 non-null   object\n",
      " 2   age                1534 non-null   int64 \n",
      " 3   city               1534 non-null   object\n",
      " 4   subscription_type  1534 non-null   object\n",
      "dtypes: int64(2), object(3)\n",
      "memory usage: 71.9+ KB\n"
     ]
    }
   ],
   "source": [
    "df_users.info()"
   ]
  },
  {
   "cell_type": "code",
   "execution_count": 43,
   "id": "70e74560",
   "metadata": {},
   "outputs": [
    {
     "data": {
      "text/plain": [
       "(1534, 5)"
      ]
     },
     "execution_count": 43,
     "metadata": {},
     "output_type": "execute_result"
    }
   ],
   "source": [
    "df_users.shape"
   ]
  },
  {
   "cell_type": "code",
   "execution_count": 44,
   "id": "5cb820ec",
   "metadata": {
    "scrolled": false
   },
   "outputs": [
    {
     "name": "stdout",
     "output_type": "stream",
     "text": [
      "<class 'pandas.core.frame.DataFrame'>\n",
      "RangeIndex: 18068 entries, 0 to 18067\n",
      "Data columns (total 5 columns):\n",
      " #   Column    Non-Null Count  Dtype         \n",
      "---  ------    --------------  -----         \n",
      " 0   user_id   18068 non-null  int64         \n",
      " 1   distance  18068 non-null  float64       \n",
      " 2   duration  18068 non-null  float64       \n",
      " 3   date      18068 non-null  datetime64[ns]\n",
      " 4   month     18068 non-null  int64         \n",
      "dtypes: datetime64[ns](1), float64(2), int64(2)\n",
      "memory usage: 705.9 KB\n"
     ]
    }
   ],
   "source": [
    "df_rides.info()"
   ]
  },
  {
   "cell_type": "code",
   "execution_count": 45,
   "id": "e47ffad8",
   "metadata": {},
   "outputs": [
    {
     "data": {
      "text/plain": [
       "(18068, 5)"
      ]
     },
     "execution_count": 45,
     "metadata": {},
     "output_type": "execute_result"
    }
   ],
   "source": [
    "df_rides.shape"
   ]
  },
  {
   "cell_type": "code",
   "execution_count": 46,
   "id": "5f2edade",
   "metadata": {
    "scrolled": true
   },
   "outputs": [
    {
     "data": {
      "text/plain": [
       "1236    27\n",
       "783     26\n",
       "1063    26\n",
       "1204    24\n",
       "1149    23\n",
       "        ..\n",
       "354      3\n",
       "139      3\n",
       "567      3\n",
       "342      2\n",
       "366      2\n",
       "Name: user_id, Length: 1534, dtype: int64"
      ]
     },
     "execution_count": 46,
     "metadata": {},
     "output_type": "execute_result"
    }
   ],
   "source": [
    "df_rides['user_id'].value_counts()"
   ]
  },
  {
   "cell_type": "markdown",
   "id": "a6bb862e",
   "metadata": {},
   "source": [
    "У датафреймов df_users и df_rides общий столбец 'user_id', количество уникальных значений этого солбца совпадает, поэтому объединение пройдет корректно. "
   ]
  },
  {
   "cell_type": "code",
   "execution_count": 47,
   "id": "a20462f3",
   "metadata": {
    "scrolled": true
   },
   "outputs": [
    {
     "name": "stdout",
     "output_type": "stream",
     "text": [
      "<class 'pandas.core.frame.DataFrame'>\n",
      "Int64Index: 18068 entries, 0 to 18067\n",
      "Data columns (total 12 columns):\n",
      " #   Column             Non-Null Count  Dtype         \n",
      "---  ------             --------------  -----         \n",
      " 0   user_id            18068 non-null  int64         \n",
      " 1   name               18068 non-null  object        \n",
      " 2   age                18068 non-null  int64         \n",
      " 3   city               18068 non-null  object        \n",
      " 4   subscription_type  18068 non-null  object        \n",
      " 5   distance           18068 non-null  float64       \n",
      " 6   duration           18068 non-null  float64       \n",
      " 7   date               18068 non-null  datetime64[ns]\n",
      " 8   month              18068 non-null  int64         \n",
      " 9   minute_price       18068 non-null  int64         \n",
      " 10  start_ride_price   18068 non-null  int64         \n",
      " 11  subscription_fee   18068 non-null  int64         \n",
      "dtypes: datetime64[ns](1), float64(2), int64(6), object(3)\n",
      "memory usage: 1.8+ MB\n"
     ]
    }
   ],
   "source": [
    "df.info()"
   ]
  },
  {
   "cell_type": "code",
   "execution_count": 48,
   "id": "b1b352ab",
   "metadata": {},
   "outputs": [
    {
     "data": {
      "text/plain": [
       "(18068, 12)"
      ]
     },
     "execution_count": 48,
     "metadata": {},
     "output_type": "execute_result"
    }
   ],
   "source": [
    "df.shape"
   ]
  },
  {
   "cell_type": "markdown",
   "id": "5fc8bb64",
   "metadata": {},
   "source": [
    "Число строк df_rides и общей созданной таблицы df совпадает. Типы данных отображены корректно."
   ]
  },
  {
   "cell_type": "code",
   "execution_count": 49,
   "id": "7a959cbe",
   "metadata": {
    "scrolled": false
   },
   "outputs": [
    {
     "data": {
      "text/plain": [
       "user_id              0\n",
       "name                 0\n",
       "age                  0\n",
       "city                 0\n",
       "subscription_type    0\n",
       "distance             0\n",
       "duration             0\n",
       "date                 0\n",
       "month                0\n",
       "minute_price         0\n",
       "start_ride_price     0\n",
       "subscription_fee     0\n",
       "dtype: int64"
      ]
     },
     "execution_count": 49,
     "metadata": {},
     "output_type": "execute_result"
    }
   ],
   "source": [
    "df.isna().sum()"
   ]
  },
  {
   "cell_type": "markdown",
   "id": "5128a863",
   "metadata": {},
   "source": [
    "Пропусков не обнаружено"
   ]
  },
  {
   "cell_type": "code",
   "execution_count": 50,
   "id": "741dbf81",
   "metadata": {},
   "outputs": [
    {
     "data": {
      "text/plain": [
       "0"
      ]
     },
     "execution_count": 50,
     "metadata": {},
     "output_type": "execute_result"
    }
   ],
   "source": [
    "df.duplicated().sum()"
   ]
  },
  {
   "cell_type": "markdown",
   "id": "3a916238",
   "metadata": {},
   "source": [
    "Дубликаты отсутсвуют."
   ]
  },
  {
   "cell_type": "markdown",
   "id": "18a1c2a8",
   "metadata": {},
   "source": [
    "Создадим датафрейм c данными о пользователях без подписки (free)"
   ]
  },
  {
   "cell_type": "code",
   "execution_count": 51,
   "id": "15f4e094",
   "metadata": {
    "scrolled": false
   },
   "outputs": [
    {
     "data": {
      "text/html": [
       "<div>\n",
       "<style scoped>\n",
       "    .dataframe tbody tr th:only-of-type {\n",
       "        vertical-align: middle;\n",
       "    }\n",
       "\n",
       "    .dataframe tbody tr th {\n",
       "        vertical-align: top;\n",
       "    }\n",
       "\n",
       "    .dataframe thead th {\n",
       "        text-align: right;\n",
       "    }\n",
       "</style>\n",
       "<table border=\"1\" class=\"dataframe\">\n",
       "  <thead>\n",
       "    <tr style=\"text-align: right;\">\n",
       "      <th></th>\n",
       "      <th>user_id</th>\n",
       "      <th>name</th>\n",
       "      <th>age</th>\n",
       "      <th>city</th>\n",
       "      <th>subscription_type</th>\n",
       "      <th>distance</th>\n",
       "      <th>duration</th>\n",
       "      <th>date</th>\n",
       "      <th>month</th>\n",
       "      <th>minute_price</th>\n",
       "      <th>start_ride_price</th>\n",
       "      <th>subscription_fee</th>\n",
       "    </tr>\n",
       "  </thead>\n",
       "  <tbody>\n",
       "    <tr>\n",
       "      <th>11316</th>\n",
       "      <td>1052</td>\n",
       "      <td>Вячеслав</td>\n",
       "      <td>27</td>\n",
       "      <td>Пятигорск</td>\n",
       "      <td>free</td>\n",
       "      <td>3925.431410</td>\n",
       "      <td>20.084771</td>\n",
       "      <td>2021-05-15</td>\n",
       "      <td>5</td>\n",
       "      <td>8</td>\n",
       "      <td>50</td>\n",
       "      <td>0</td>\n",
       "    </tr>\n",
       "    <tr>\n",
       "      <th>15343</th>\n",
       "      <td>1342</td>\n",
       "      <td>Данила</td>\n",
       "      <td>23</td>\n",
       "      <td>Тюмень</td>\n",
       "      <td>free</td>\n",
       "      <td>672.131419</td>\n",
       "      <td>8.680329</td>\n",
       "      <td>2021-06-29</td>\n",
       "      <td>6</td>\n",
       "      <td>8</td>\n",
       "      <td>50</td>\n",
       "      <td>0</td>\n",
       "    </tr>\n",
       "    <tr>\n",
       "      <th>8286</th>\n",
       "      <td>832</td>\n",
       "      <td>Анна</td>\n",
       "      <td>24</td>\n",
       "      <td>Омск</td>\n",
       "      <td>free</td>\n",
       "      <td>808.117021</td>\n",
       "      <td>15.939481</td>\n",
       "      <td>2021-03-26</td>\n",
       "      <td>3</td>\n",
       "      <td>8</td>\n",
       "      <td>50</td>\n",
       "      <td>0</td>\n",
       "    </tr>\n",
       "    <tr>\n",
       "      <th>17444</th>\n",
       "      <td>1491</td>\n",
       "      <td>Адель</td>\n",
       "      <td>31</td>\n",
       "      <td>Сочи</td>\n",
       "      <td>free</td>\n",
       "      <td>3751.509757</td>\n",
       "      <td>22.003623</td>\n",
       "      <td>2021-06-08</td>\n",
       "      <td>6</td>\n",
       "      <td>8</td>\n",
       "      <td>50</td>\n",
       "      <td>0</td>\n",
       "    </tr>\n",
       "    <tr>\n",
       "      <th>14688</th>\n",
       "      <td>1293</td>\n",
       "      <td>Ксения</td>\n",
       "      <td>23</td>\n",
       "      <td>Омск</td>\n",
       "      <td>free</td>\n",
       "      <td>2943.702328</td>\n",
       "      <td>22.831107</td>\n",
       "      <td>2021-12-13</td>\n",
       "      <td>12</td>\n",
       "      <td>8</td>\n",
       "      <td>50</td>\n",
       "      <td>0</td>\n",
       "    </tr>\n",
       "    <tr>\n",
       "      <th>13632</th>\n",
       "      <td>1219</td>\n",
       "      <td>Ксения</td>\n",
       "      <td>25</td>\n",
       "      <td>Пятигорск</td>\n",
       "      <td>free</td>\n",
       "      <td>4747.751035</td>\n",
       "      <td>27.565003</td>\n",
       "      <td>2021-07-09</td>\n",
       "      <td>7</td>\n",
       "      <td>8</td>\n",
       "      <td>50</td>\n",
       "      <td>0</td>\n",
       "    </tr>\n",
       "    <tr>\n",
       "      <th>11816</th>\n",
       "      <td>1088</td>\n",
       "      <td>Самир</td>\n",
       "      <td>28</td>\n",
       "      <td>Тюмень</td>\n",
       "      <td>free</td>\n",
       "      <td>3390.879623</td>\n",
       "      <td>25.495707</td>\n",
       "      <td>2021-06-28</td>\n",
       "      <td>6</td>\n",
       "      <td>8</td>\n",
       "      <td>50</td>\n",
       "      <td>0</td>\n",
       "    </tr>\n",
       "    <tr>\n",
       "      <th>14020</th>\n",
       "      <td>1246</td>\n",
       "      <td>Максим</td>\n",
       "      <td>22</td>\n",
       "      <td>Тюмень</td>\n",
       "      <td>free</td>\n",
       "      <td>4240.583645</td>\n",
       "      <td>15.785962</td>\n",
       "      <td>2021-09-26</td>\n",
       "      <td>9</td>\n",
       "      <td>8</td>\n",
       "      <td>50</td>\n",
       "      <td>0</td>\n",
       "    </tr>\n",
       "    <tr>\n",
       "      <th>13048</th>\n",
       "      <td>1179</td>\n",
       "      <td>Анна</td>\n",
       "      <td>24</td>\n",
       "      <td>Сочи</td>\n",
       "      <td>free</td>\n",
       "      <td>397.452492</td>\n",
       "      <td>3.135579</td>\n",
       "      <td>2021-03-27</td>\n",
       "      <td>3</td>\n",
       "      <td>8</td>\n",
       "      <td>50</td>\n",
       "      <td>0</td>\n",
       "    </tr>\n",
       "    <tr>\n",
       "      <th>10837</th>\n",
       "      <td>1017</td>\n",
       "      <td>Марина</td>\n",
       "      <td>25</td>\n",
       "      <td>Екатеринбург</td>\n",
       "      <td>free</td>\n",
       "      <td>3974.972796</td>\n",
       "      <td>18.949946</td>\n",
       "      <td>2021-03-12</td>\n",
       "      <td>3</td>\n",
       "      <td>8</td>\n",
       "      <td>50</td>\n",
       "      <td>0</td>\n",
       "    </tr>\n",
       "  </tbody>\n",
       "</table>\n",
       "</div>"
      ],
      "text/plain": [
       "       user_id      name  age          city subscription_type     distance  \\\n",
       "11316     1052  Вячеслав   27     Пятигорск              free  3925.431410   \n",
       "15343     1342    Данила   23        Тюмень              free   672.131419   \n",
       "8286       832      Анна   24          Омск              free   808.117021   \n",
       "17444     1491     Адель   31          Сочи              free  3751.509757   \n",
       "14688     1293    Ксения   23          Омск              free  2943.702328   \n",
       "13632     1219    Ксения   25     Пятигорск              free  4747.751035   \n",
       "11816     1088     Самир   28        Тюмень              free  3390.879623   \n",
       "14020     1246    Максим   22        Тюмень              free  4240.583645   \n",
       "13048     1179      Анна   24          Сочи              free   397.452492   \n",
       "10837     1017    Марина   25  Екатеринбург              free  3974.972796   \n",
       "\n",
       "        duration       date  month  minute_price  start_ride_price  \\\n",
       "11316  20.084771 2021-05-15      5             8                50   \n",
       "15343   8.680329 2021-06-29      6             8                50   \n",
       "8286   15.939481 2021-03-26      3             8                50   \n",
       "17444  22.003623 2021-06-08      6             8                50   \n",
       "14688  22.831107 2021-12-13     12             8                50   \n",
       "13632  27.565003 2021-07-09      7             8                50   \n",
       "11816  25.495707 2021-06-28      6             8                50   \n",
       "14020  15.785962 2021-09-26      9             8                50   \n",
       "13048   3.135579 2021-03-27      3             8                50   \n",
       "10837  18.949946 2021-03-12      3             8                50   \n",
       "\n",
       "       subscription_fee  \n",
       "11316                 0  \n",
       "15343                 0  \n",
       "8286                  0  \n",
       "17444                 0  \n",
       "14688                 0  \n",
       "13632                 0  \n",
       "11816                 0  \n",
       "14020                 0  \n",
       "13048                 0  \n",
       "10837                 0  "
      ]
     },
     "execution_count": 51,
     "metadata": {},
     "output_type": "execute_result"
    }
   ],
   "source": [
    "df_free_sub = df.query(\"subscription_type == 'free'\")\n",
    "df_free_sub.sample(10)"
   ]
  },
  {
   "cell_type": "markdown",
   "id": "0a2d7b8c",
   "metadata": {},
   "source": [
    "Создадим датафрейм c данными о пользователях с подпиской (ultra)"
   ]
  },
  {
   "cell_type": "code",
   "execution_count": 52,
   "id": "32a177bd",
   "metadata": {},
   "outputs": [
    {
     "data": {
      "text/html": [
       "<div>\n",
       "<style scoped>\n",
       "    .dataframe tbody tr th:only-of-type {\n",
       "        vertical-align: middle;\n",
       "    }\n",
       "\n",
       "    .dataframe tbody tr th {\n",
       "        vertical-align: top;\n",
       "    }\n",
       "\n",
       "    .dataframe thead th {\n",
       "        text-align: right;\n",
       "    }\n",
       "</style>\n",
       "<table border=\"1\" class=\"dataframe\">\n",
       "  <thead>\n",
       "    <tr style=\"text-align: right;\">\n",
       "      <th></th>\n",
       "      <th>user_id</th>\n",
       "      <th>name</th>\n",
       "      <th>age</th>\n",
       "      <th>city</th>\n",
       "      <th>subscription_type</th>\n",
       "      <th>distance</th>\n",
       "      <th>duration</th>\n",
       "      <th>date</th>\n",
       "      <th>month</th>\n",
       "      <th>minute_price</th>\n",
       "      <th>start_ride_price</th>\n",
       "      <th>subscription_fee</th>\n",
       "    </tr>\n",
       "  </thead>\n",
       "  <tbody>\n",
       "    <tr>\n",
       "      <th>5212</th>\n",
       "      <td>560</td>\n",
       "      <td>Самир</td>\n",
       "      <td>33</td>\n",
       "      <td>Москва</td>\n",
       "      <td>ultra</td>\n",
       "      <td>2816.341961</td>\n",
       "      <td>13.499251</td>\n",
       "      <td>2021-09-06</td>\n",
       "      <td>9</td>\n",
       "      <td>6</td>\n",
       "      <td>0</td>\n",
       "      <td>199</td>\n",
       "    </tr>\n",
       "    <tr>\n",
       "      <th>3959</th>\n",
       "      <td>426</td>\n",
       "      <td>Татьяна</td>\n",
       "      <td>20</td>\n",
       "      <td>Омск</td>\n",
       "      <td>ultra</td>\n",
       "      <td>3514.528273</td>\n",
       "      <td>31.170154</td>\n",
       "      <td>2021-06-30</td>\n",
       "      <td>6</td>\n",
       "      <td>6</td>\n",
       "      <td>0</td>\n",
       "      <td>199</td>\n",
       "    </tr>\n",
       "    <tr>\n",
       "      <th>4862</th>\n",
       "      <td>524</td>\n",
       "      <td>Екатерина</td>\n",
       "      <td>19</td>\n",
       "      <td>Сочи</td>\n",
       "      <td>ultra</td>\n",
       "      <td>4893.098845</td>\n",
       "      <td>31.583533</td>\n",
       "      <td>2021-04-22</td>\n",
       "      <td>4</td>\n",
       "      <td>6</td>\n",
       "      <td>0</td>\n",
       "      <td>199</td>\n",
       "    </tr>\n",
       "    <tr>\n",
       "      <th>71</th>\n",
       "      <td>7</td>\n",
       "      <td>Игорь</td>\n",
       "      <td>23</td>\n",
       "      <td>Омск</td>\n",
       "      <td>ultra</td>\n",
       "      <td>3462.821146</td>\n",
       "      <td>10.695158</td>\n",
       "      <td>2021-01-20</td>\n",
       "      <td>1</td>\n",
       "      <td>6</td>\n",
       "      <td>0</td>\n",
       "      <td>199</td>\n",
       "    </tr>\n",
       "    <tr>\n",
       "      <th>6462</th>\n",
       "      <td>694</td>\n",
       "      <td>Алия</td>\n",
       "      <td>29</td>\n",
       "      <td>Краснодар</td>\n",
       "      <td>ultra</td>\n",
       "      <td>2875.683485</td>\n",
       "      <td>13.783813</td>\n",
       "      <td>2021-11-11</td>\n",
       "      <td>11</td>\n",
       "      <td>6</td>\n",
       "      <td>0</td>\n",
       "      <td>199</td>\n",
       "    </tr>\n",
       "    <tr>\n",
       "      <th>6102</th>\n",
       "      <td>654</td>\n",
       "      <td>Самира</td>\n",
       "      <td>26</td>\n",
       "      <td>Пятигорск</td>\n",
       "      <td>ultra</td>\n",
       "      <td>2683.460244</td>\n",
       "      <td>14.192601</td>\n",
       "      <td>2021-07-26</td>\n",
       "      <td>7</td>\n",
       "      <td>6</td>\n",
       "      <td>0</td>\n",
       "      <td>199</td>\n",
       "    </tr>\n",
       "    <tr>\n",
       "      <th>2609</th>\n",
       "      <td>277</td>\n",
       "      <td>Валерий</td>\n",
       "      <td>18</td>\n",
       "      <td>Екатеринбург</td>\n",
       "      <td>ultra</td>\n",
       "      <td>4968.463606</td>\n",
       "      <td>21.550355</td>\n",
       "      <td>2021-02-04</td>\n",
       "      <td>2</td>\n",
       "      <td>6</td>\n",
       "      <td>0</td>\n",
       "      <td>199</td>\n",
       "    </tr>\n",
       "    <tr>\n",
       "      <th>2745</th>\n",
       "      <td>293</td>\n",
       "      <td>Агата</td>\n",
       "      <td>26</td>\n",
       "      <td>Краснодар</td>\n",
       "      <td>ultra</td>\n",
       "      <td>3654.157115</td>\n",
       "      <td>17.180524</td>\n",
       "      <td>2021-01-30</td>\n",
       "      <td>1</td>\n",
       "      <td>6</td>\n",
       "      <td>0</td>\n",
       "      <td>199</td>\n",
       "    </tr>\n",
       "    <tr>\n",
       "      <th>5864</th>\n",
       "      <td>624</td>\n",
       "      <td>Рустам</td>\n",
       "      <td>26</td>\n",
       "      <td>Ростов-на-Дону</td>\n",
       "      <td>ultra</td>\n",
       "      <td>2821.613065</td>\n",
       "      <td>12.270251</td>\n",
       "      <td>2021-10-25</td>\n",
       "      <td>10</td>\n",
       "      <td>6</td>\n",
       "      <td>0</td>\n",
       "      <td>199</td>\n",
       "    </tr>\n",
       "    <tr>\n",
       "      <th>1610</th>\n",
       "      <td>173</td>\n",
       "      <td>Никита</td>\n",
       "      <td>23</td>\n",
       "      <td>Екатеринбург</td>\n",
       "      <td>ultra</td>\n",
       "      <td>3790.422915</td>\n",
       "      <td>23.214086</td>\n",
       "      <td>2021-05-02</td>\n",
       "      <td>5</td>\n",
       "      <td>6</td>\n",
       "      <td>0</td>\n",
       "      <td>199</td>\n",
       "    </tr>\n",
       "  </tbody>\n",
       "</table>\n",
       "</div>"
      ],
      "text/plain": [
       "      user_id       name  age            city subscription_type     distance  \\\n",
       "5212      560      Самир   33          Москва             ultra  2816.341961   \n",
       "3959      426    Татьяна   20            Омск             ultra  3514.528273   \n",
       "4862      524  Екатерина   19            Сочи             ultra  4893.098845   \n",
       "71          7      Игорь   23            Омск             ultra  3462.821146   \n",
       "6462      694       Алия   29       Краснодар             ultra  2875.683485   \n",
       "6102      654     Самира   26       Пятигорск             ultra  2683.460244   \n",
       "2609      277    Валерий   18    Екатеринбург             ultra  4968.463606   \n",
       "2745      293      Агата   26       Краснодар             ultra  3654.157115   \n",
       "5864      624     Рустам   26  Ростов-на-Дону             ultra  2821.613065   \n",
       "1610      173     Никита   23    Екатеринбург             ultra  3790.422915   \n",
       "\n",
       "       duration       date  month  minute_price  start_ride_price  \\\n",
       "5212  13.499251 2021-09-06      9             6                 0   \n",
       "3959  31.170154 2021-06-30      6             6                 0   \n",
       "4862  31.583533 2021-04-22      4             6                 0   \n",
       "71    10.695158 2021-01-20      1             6                 0   \n",
       "6462  13.783813 2021-11-11     11             6                 0   \n",
       "6102  14.192601 2021-07-26      7             6                 0   \n",
       "2609  21.550355 2021-02-04      2             6                 0   \n",
       "2745  17.180524 2021-01-30      1             6                 0   \n",
       "5864  12.270251 2021-10-25     10             6                 0   \n",
       "1610  23.214086 2021-05-02      5             6                 0   \n",
       "\n",
       "      subscription_fee  \n",
       "5212               199  \n",
       "3959               199  \n",
       "4862               199  \n",
       "71                 199  \n",
       "6462               199  \n",
       "6102               199  \n",
       "2609               199  \n",
       "2745               199  \n",
       "5864               199  \n",
       "1610               199  "
      ]
     },
     "execution_count": 52,
     "metadata": {},
     "output_type": "execute_result"
    }
   ],
   "source": [
    "df_ultra_sub = df.query(\"subscription_type == 'ultra'\")\n",
    "df_ultra_sub.sample(10)"
   ]
  },
  {
   "cell_type": "markdown",
   "id": "4d01d63d",
   "metadata": {},
   "source": [
    "**Визуализируем информацию о расстоянии поездок для пользователей с подпиской и без нее**"
   ]
  },
  {
   "cell_type": "code",
   "execution_count": 53,
   "id": "6156d563",
   "metadata": {
    "scrolled": false
   },
   "outputs": [
    {
     "data": {
      "image/png": "[encoded data removed]",
      "text/plain": [
       "<Figure size 1000x500 with 1 Axes>"
      ]
     },
     "metadata": {},
     "output_type": "display_data"
    },
    {
     "data": {
      "text/plain": [
       "count    6500.00\n",
       "mean     3115.45\n",
       "std       836.90\n",
       "min       244.21\n",
       "25%      2785.44\n",
       "50%      3148.64\n",
       "75%      3560.57\n",
       "max      5699.77\n",
       "Name: distance, dtype: float64"
      ]
     },
     "execution_count": 53,
     "metadata": {},
     "output_type": "execute_result"
    }
   ],
   "source": [
    "df_ultra_sub['distance'].hist(bins=50, range = (0, 8000), figsize=(10, 5), legend=True, grid=True)\n",
    "plt.title('Расстояние поездок для пользователей с подпиской')\n",
    "plt.xlabel('Расстояние, м.')\n",
    "plt.ylabel('Количество поездок')\n",
    "plt.show()\n",
    "\n",
    "df_ultra_sub['distance'].describe().round(2)"
   ]
  },
  {
   "cell_type": "markdown",
   "id": "5a239862",
   "metadata": {},
   "source": [
    "Дистанция поездок у пользователей с подпиской в основном 2.5-4.5 км. Максимальная дистанция 5.7 км, минимальная - 244 метра. Среднее и медиана практически точны - 3.1 км. "
   ]
  },
  {
   "cell_type": "code",
   "execution_count": 54,
   "id": "b6e229e5",
   "metadata": {},
   "outputs": [
    {
     "data": {
      "image/png": "[encoded data removed]",
      "text/plain": [
       "<Figure size 1000x500 with 1 Axes>"
      ]
     },
     "metadata": {},
     "output_type": "display_data"
    },
    {
     "data": {
      "text/plain": [
       "count    11568.00\n",
       "mean      3045.50\n",
       "std       1246.17\n",
       "min          0.86\n",
       "25%       2366.56\n",
       "50%       3114.65\n",
       "75%       3905.70\n",
       "max       7211.01\n",
       "Name: distance, dtype: float64"
      ]
     },
     "execution_count": 54,
     "metadata": {},
     "output_type": "execute_result"
    }
   ],
   "source": [
    "df_free_sub['distance'].hist(bins=50, range = (0, 8000), figsize=(10, 5), legend=True, grid=True)\n",
    "plt.title('Расстояние поездок для пользователей без подписки')\n",
    "plt.xlabel('Расстояние, м.')\n",
    "plt.ylabel('Количество поездок')\n",
    "plt.show()\n",
    "\n",
    "df_free_sub['distance'].describe().round(2)"
   ]
  },
  {
   "cell_type": "markdown",
   "id": "bd4df2a5",
   "metadata": {},
   "source": [
    "Дистанция поездок у пользователей без подписки в основном 1.7-5 км. Максимальная дистанция 7.2 км, минимальная меньше метра. Среднее и медиана практически точны - 3 км."
   ]
  },
  {
   "cell_type": "markdown",
   "id": "a506e853",
   "metadata": {},
   "source": [
    "**Визуализируем информацию о продолжительности поездок для пользователей с подпиской и без нее**"
   ]
  },
  {
   "cell_type": "code",
   "execution_count": 55,
   "id": "d166b9c1",
   "metadata": {
    "scrolled": false
   },
   "outputs": [
    {
     "data": {
      "image/png": "[encoded data removed]",
      "text/plain": [
       "<Figure size 1000x500 with 1 Axes>"
      ]
     },
     "metadata": {},
     "output_type": "display_data"
    },
    {
     "data": {
      "text/plain": [
       "count    6500.0\n",
       "mean       18.5\n",
       "std         5.6\n",
       "min         3.8\n",
       "25%        14.5\n",
       "50%        18.2\n",
       "75%        21.9\n",
       "max        40.8\n",
       "Name: duration, dtype: float64"
      ]
     },
     "execution_count": 55,
     "metadata": {},
     "output_type": "execute_result"
    }
   ],
   "source": [
    "df_ultra_sub['duration'].hist(bins=50, range = (0, 45), figsize=(10, 5), legend=True, grid=True)\n",
    "plt.title('Продолжительность поездок для пользователей с подпиской')\n",
    "plt.xlabel('Время, минуты')\n",
    "plt.ylabel('Количество поездок')\n",
    "plt.show()\n",
    "\n",
    "df_ultra_sub['duration'].describe().round(1)"
   ]
  },
  {
   "cell_type": "markdown",
   "id": "9643853e",
   "metadata": {},
   "source": [
    "Продолжительность поездок пользователей с подпиской в основном 10-25 минут. Максимальное время 41 минута, минимальное - 4 минуты. Среднее и медиана точны - 18 минут. "
   ]
  },
  {
   "cell_type": "code",
   "execution_count": 56,
   "id": "10cf6a84",
   "metadata": {
    "scrolled": false
   },
   "outputs": [
    {
     "data": {
      "image/png": "[encoded data removed]",
      "text/plain": [
       "<Figure size 1000x500 with 1 Axes>"
      ]
     },
     "metadata": {},
     "output_type": "display_data"
    },
    {
     "data": {
      "text/plain": [
       "count    11568.0\n",
       "mean        17.4\n",
       "std          6.3\n",
       "min          0.5\n",
       "25%         13.0\n",
       "50%         17.3\n",
       "75%         21.6\n",
       "max         34.9\n",
       "Name: duration, dtype: float64"
      ]
     },
     "execution_count": 56,
     "metadata": {},
     "output_type": "execute_result"
    }
   ],
   "source": [
    "df_free_sub['duration'].hist(bins=50, range = (0, 45), figsize=(10, 5), legend=True, grid=True)\n",
    "plt.title('Продолжительность поездок для пользователей без подписки')\n",
    "plt.xlabel('Время, минуты')\n",
    "plt.ylabel('Количество поездок')\n",
    "plt.show()\n",
    "\n",
    "df_free_sub['duration'].describe().round(1)"
   ]
  },
  {
   "cell_type": "markdown",
   "id": "3d5eac6e",
   "metadata": {},
   "source": [
    "Продолжительность поездок пользователей без подписки в основном составляет от 5 до 30 минут. Максимальное время 35 минут, минимальное - 30 секунд. Среднее и медиана точны - 17 минут."
   ]
  },
  {
   "cell_type": "markdown",
   "id": "d5afd32f",
   "metadata": {},
   "source": [
    "### Вывод\n",
    "\n",
    "Объединили данные о пользователях, поездках и тарифах в один датафрейм - df.\n",
    "\n",
    "Выделили два датафрейма на основе df:\n",
    "\n",
    "- df_free_sub - Информация о пользователях без подписки\n",
    "- df_ultra_sub - Информация о пользователях с подпиской\n",
    "\n",
    "Визуализировали информацию о расстоянии и времени для каждого из тарифов.\n",
    "\n",
    "Продолжительность поездок пользователей без подписки в основном составляет от 5 до 30 минут (максимальное время 35 минут), а пользователей с подпиской - 10-25 минут (максимальное время 41 минута).  \n",
    "\n",
    "Дистанция поездок у пользователей без подписки в основном 1.7-5 км (максимальная дистанция 7.2 км), с подпиской - 2.5-4.5 км  (максимальная дистанция 5.7 км)\n",
    "\n",
    "Можно сделать вывод, что пользователи с подпиской совершают более долгие поездки, а также проезжают большее расстояние, чем пользователи без подписки."
   ]
  },
  {
   "cell_type": "markdown",
   "id": "6044a379",
   "metadata": {},
   "source": [
    "## Этап 5. Подсчет выручки"
   ]
  },
  {
   "cell_type": "code",
   "execution_count": 57,
   "id": "fcace494",
   "metadata": {
    "scrolled": false
   },
   "outputs": [
    {
     "data": {
      "text/html": [
       "<div>\n",
       "<style scoped>\n",
       "    .dataframe tbody tr th:only-of-type {\n",
       "        vertical-align: middle;\n",
       "    }\n",
       "\n",
       "    .dataframe tbody tr th {\n",
       "        vertical-align: top;\n",
       "    }\n",
       "\n",
       "    .dataframe thead th {\n",
       "        text-align: right;\n",
       "    }\n",
       "</style>\n",
       "<table border=\"1\" class=\"dataframe\">\n",
       "  <thead>\n",
       "    <tr style=\"text-align: right;\">\n",
       "      <th></th>\n",
       "      <th>user_id</th>\n",
       "      <th>name</th>\n",
       "      <th>age</th>\n",
       "      <th>city</th>\n",
       "      <th>subscription_type</th>\n",
       "      <th>distance</th>\n",
       "      <th>duration</th>\n",
       "      <th>date</th>\n",
       "      <th>month</th>\n",
       "      <th>minute_price</th>\n",
       "      <th>start_ride_price</th>\n",
       "      <th>subscription_fee</th>\n",
       "    </tr>\n",
       "  </thead>\n",
       "  <tbody>\n",
       "    <tr>\n",
       "      <th>0</th>\n",
       "      <td>1</td>\n",
       "      <td>Кира</td>\n",
       "      <td>22</td>\n",
       "      <td>Тюмень</td>\n",
       "      <td>ultra</td>\n",
       "      <td>4409.919140</td>\n",
       "      <td>25.599769</td>\n",
       "      <td>2021-01-01</td>\n",
       "      <td>1</td>\n",
       "      <td>6</td>\n",
       "      <td>0</td>\n",
       "      <td>199</td>\n",
       "    </tr>\n",
       "    <tr>\n",
       "      <th>1</th>\n",
       "      <td>1</td>\n",
       "      <td>Кира</td>\n",
       "      <td>22</td>\n",
       "      <td>Тюмень</td>\n",
       "      <td>ultra</td>\n",
       "      <td>2617.592153</td>\n",
       "      <td>15.816871</td>\n",
       "      <td>2021-01-18</td>\n",
       "      <td>1</td>\n",
       "      <td>6</td>\n",
       "      <td>0</td>\n",
       "      <td>199</td>\n",
       "    </tr>\n",
       "    <tr>\n",
       "      <th>2</th>\n",
       "      <td>1</td>\n",
       "      <td>Кира</td>\n",
       "      <td>22</td>\n",
       "      <td>Тюмень</td>\n",
       "      <td>ultra</td>\n",
       "      <td>754.159807</td>\n",
       "      <td>6.232113</td>\n",
       "      <td>2021-04-20</td>\n",
       "      <td>4</td>\n",
       "      <td>6</td>\n",
       "      <td>0</td>\n",
       "      <td>199</td>\n",
       "    </tr>\n",
       "    <tr>\n",
       "      <th>3</th>\n",
       "      <td>1</td>\n",
       "      <td>Кира</td>\n",
       "      <td>22</td>\n",
       "      <td>Тюмень</td>\n",
       "      <td>ultra</td>\n",
       "      <td>2694.783254</td>\n",
       "      <td>18.511000</td>\n",
       "      <td>2021-08-11</td>\n",
       "      <td>8</td>\n",
       "      <td>6</td>\n",
       "      <td>0</td>\n",
       "      <td>199</td>\n",
       "    </tr>\n",
       "    <tr>\n",
       "      <th>4</th>\n",
       "      <td>1</td>\n",
       "      <td>Кира</td>\n",
       "      <td>22</td>\n",
       "      <td>Тюмень</td>\n",
       "      <td>ultra</td>\n",
       "      <td>4028.687306</td>\n",
       "      <td>26.265803</td>\n",
       "      <td>2021-08-28</td>\n",
       "      <td>8</td>\n",
       "      <td>6</td>\n",
       "      <td>0</td>\n",
       "      <td>199</td>\n",
       "    </tr>\n",
       "  </tbody>\n",
       "</table>\n",
       "</div>"
      ],
      "text/plain": [
       "   user_id  name  age    city subscription_type     distance   duration  \\\n",
       "0        1  Кира   22  Тюмень             ultra  4409.919140  25.599769   \n",
       "1        1  Кира   22  Тюмень             ultra  2617.592153  15.816871   \n",
       "2        1  Кира   22  Тюмень             ultra   754.159807   6.232113   \n",
       "3        1  Кира   22  Тюмень             ultra  2694.783254  18.511000   \n",
       "4        1  Кира   22  Тюмень             ultra  4028.687306  26.265803   \n",
       "\n",
       "        date  month  minute_price  start_ride_price  subscription_fee  \n",
       "0 2021-01-01      1             6                 0               199  \n",
       "1 2021-01-18      1             6                 0               199  \n",
       "2 2021-04-20      4             6                 0               199  \n",
       "3 2021-08-11      8             6                 0               199  \n",
       "4 2021-08-28      8             6                 0               199  "
      ]
     },
     "execution_count": 57,
     "metadata": {},
     "output_type": "execute_result"
    }
   ],
   "source": [
    "df.head()"
   ]
  },
  {
   "cell_type": "markdown",
   "id": "8734e802",
   "metadata": {},
   "source": [
    "Продолжительность каждой поездки в каждой строке датафрейма для дальнейших расчетов округляем до следующего целого числа."
   ]
  },
  {
   "cell_type": "code",
   "execution_count": 58,
   "id": "7eb5c2a1",
   "metadata": {},
   "outputs": [],
   "source": [
    "df['duration']=np.ceil(df['duration'])"
   ]
  },
  {
   "cell_type": "code",
   "execution_count": 59,
   "id": "6eb7a321",
   "metadata": {
    "scrolled": true
   },
   "outputs": [
    {
     "data": {
      "text/html": [
       "<div>\n",
       "<style scoped>\n",
       "    .dataframe tbody tr th:only-of-type {\n",
       "        vertical-align: middle;\n",
       "    }\n",
       "\n",
       "    .dataframe tbody tr th {\n",
       "        vertical-align: top;\n",
       "    }\n",
       "\n",
       "    .dataframe thead th {\n",
       "        text-align: right;\n",
       "    }\n",
       "</style>\n",
       "<table border=\"1\" class=\"dataframe\">\n",
       "  <thead>\n",
       "    <tr style=\"text-align: right;\">\n",
       "      <th></th>\n",
       "      <th>user_id</th>\n",
       "      <th>name</th>\n",
       "      <th>age</th>\n",
       "      <th>city</th>\n",
       "      <th>subscription_type</th>\n",
       "      <th>distance</th>\n",
       "      <th>duration</th>\n",
       "      <th>date</th>\n",
       "      <th>month</th>\n",
       "      <th>minute_price</th>\n",
       "      <th>start_ride_price</th>\n",
       "      <th>subscription_fee</th>\n",
       "    </tr>\n",
       "  </thead>\n",
       "  <tbody>\n",
       "    <tr>\n",
       "      <th>0</th>\n",
       "      <td>1</td>\n",
       "      <td>Кира</td>\n",
       "      <td>22</td>\n",
       "      <td>Тюмень</td>\n",
       "      <td>ultra</td>\n",
       "      <td>4409.919140</td>\n",
       "      <td>26.0</td>\n",
       "      <td>2021-01-01</td>\n",
       "      <td>1</td>\n",
       "      <td>6</td>\n",
       "      <td>0</td>\n",
       "      <td>199</td>\n",
       "    </tr>\n",
       "    <tr>\n",
       "      <th>1</th>\n",
       "      <td>1</td>\n",
       "      <td>Кира</td>\n",
       "      <td>22</td>\n",
       "      <td>Тюмень</td>\n",
       "      <td>ultra</td>\n",
       "      <td>2617.592153</td>\n",
       "      <td>16.0</td>\n",
       "      <td>2021-01-18</td>\n",
       "      <td>1</td>\n",
       "      <td>6</td>\n",
       "      <td>0</td>\n",
       "      <td>199</td>\n",
       "    </tr>\n",
       "    <tr>\n",
       "      <th>2</th>\n",
       "      <td>1</td>\n",
       "      <td>Кира</td>\n",
       "      <td>22</td>\n",
       "      <td>Тюмень</td>\n",
       "      <td>ultra</td>\n",
       "      <td>754.159807</td>\n",
       "      <td>7.0</td>\n",
       "      <td>2021-04-20</td>\n",
       "      <td>4</td>\n",
       "      <td>6</td>\n",
       "      <td>0</td>\n",
       "      <td>199</td>\n",
       "    </tr>\n",
       "    <tr>\n",
       "      <th>3</th>\n",
       "      <td>1</td>\n",
       "      <td>Кира</td>\n",
       "      <td>22</td>\n",
       "      <td>Тюмень</td>\n",
       "      <td>ultra</td>\n",
       "      <td>2694.783254</td>\n",
       "      <td>19.0</td>\n",
       "      <td>2021-08-11</td>\n",
       "      <td>8</td>\n",
       "      <td>6</td>\n",
       "      <td>0</td>\n",
       "      <td>199</td>\n",
       "    </tr>\n",
       "    <tr>\n",
       "      <th>4</th>\n",
       "      <td>1</td>\n",
       "      <td>Кира</td>\n",
       "      <td>22</td>\n",
       "      <td>Тюмень</td>\n",
       "      <td>ultra</td>\n",
       "      <td>4028.687306</td>\n",
       "      <td>27.0</td>\n",
       "      <td>2021-08-28</td>\n",
       "      <td>8</td>\n",
       "      <td>6</td>\n",
       "      <td>0</td>\n",
       "      <td>199</td>\n",
       "    </tr>\n",
       "  </tbody>\n",
       "</table>\n",
       "</div>"
      ],
      "text/plain": [
       "   user_id  name  age    city subscription_type     distance  duration  \\\n",
       "0        1  Кира   22  Тюмень             ultra  4409.919140      26.0   \n",
       "1        1  Кира   22  Тюмень             ultra  2617.592153      16.0   \n",
       "2        1  Кира   22  Тюмень             ultra   754.159807       7.0   \n",
       "3        1  Кира   22  Тюмень             ultra  2694.783254      19.0   \n",
       "4        1  Кира   22  Тюмень             ultra  4028.687306      27.0   \n",
       "\n",
       "        date  month  minute_price  start_ride_price  subscription_fee  \n",
       "0 2021-01-01      1             6                 0               199  \n",
       "1 2021-01-18      1             6                 0               199  \n",
       "2 2021-04-20      4             6                 0               199  \n",
       "3 2021-08-11      8             6                 0               199  \n",
       "4 2021-08-28      8             6                 0               199  "
      ]
     },
     "execution_count": 59,
     "metadata": {},
     "output_type": "execute_result"
    }
   ],
   "source": [
    "df.head()"
   ]
  },
  {
   "cell_type": "code",
   "execution_count": 60,
   "id": "2a280982",
   "metadata": {},
   "outputs": [
    {
     "data": {
      "text/plain": [
       "1    1534\n",
       "Name: subscription_type, dtype: int64"
      ]
     },
     "execution_count": 60,
     "metadata": {},
     "output_type": "execute_result"
    }
   ],
   "source": [
    "# Проверка, что у каждого пользователя присутствует только один вариант подписки\n",
    "df.groupby('user_id')['subscription_type'].nunique().value_counts()"
   ]
  },
  {
   "cell_type": "markdown",
   "id": "cf7d03f0",
   "metadata": {},
   "source": [
    "Создаем датафрейм с агрегированными данными о поездках на основе общего датафрейма df. \n",
    "\n",
    "В новых столбцах total_distance, total_duration и trip_count рассчитаем суммарное расстояние, суммарное время и количество поездок для каждого пользователя за каждый месяц"
   ]
  },
  {
   "cell_type": "code",
   "execution_count": 61,
   "id": "576bbe53",
   "metadata": {
    "scrolled": false
   },
   "outputs": [
    {
     "data": {
      "text/html": [
       "<div>\n",
       "<style scoped>\n",
       "    .dataframe tbody tr th:only-of-type {\n",
       "        vertical-align: middle;\n",
       "    }\n",
       "\n",
       "    .dataframe tbody tr th {\n",
       "        vertical-align: top;\n",
       "    }\n",
       "\n",
       "    .dataframe thead th {\n",
       "        text-align: right;\n",
       "    }\n",
       "</style>\n",
       "<table border=\"1\" class=\"dataframe\">\n",
       "  <thead>\n",
       "    <tr style=\"text-align: right;\">\n",
       "      <th></th>\n",
       "      <th>month</th>\n",
       "      <th>user_id</th>\n",
       "      <th>total_distance</th>\n",
       "      <th>total_duration</th>\n",
       "      <th>trip_count</th>\n",
       "      <th>subscription_type</th>\n",
       "    </tr>\n",
       "  </thead>\n",
       "  <tbody>\n",
       "    <tr>\n",
       "      <th>0</th>\n",
       "      <td>1</td>\n",
       "      <td>1</td>\n",
       "      <td>7027.511294</td>\n",
       "      <td>42.0</td>\n",
       "      <td>2</td>\n",
       "      <td>ultra</td>\n",
       "    </tr>\n",
       "    <tr>\n",
       "      <th>1</th>\n",
       "      <td>1</td>\n",
       "      <td>3</td>\n",
       "      <td>3061.777147</td>\n",
       "      <td>13.0</td>\n",
       "      <td>1</td>\n",
       "      <td>ultra</td>\n",
       "    </tr>\n",
       "    <tr>\n",
       "      <th>2</th>\n",
       "      <td>1</td>\n",
       "      <td>5</td>\n",
       "      <td>3914.646990</td>\n",
       "      <td>13.0</td>\n",
       "      <td>1</td>\n",
       "      <td>ultra</td>\n",
       "    </tr>\n",
       "    <tr>\n",
       "      <th>3</th>\n",
       "      <td>1</td>\n",
       "      <td>7</td>\n",
       "      <td>6478.080979</td>\n",
       "      <td>28.0</td>\n",
       "      <td>2</td>\n",
       "      <td>ultra</td>\n",
       "    </tr>\n",
       "    <tr>\n",
       "      <th>4</th>\n",
       "      <td>1</td>\n",
       "      <td>12</td>\n",
       "      <td>3577.151148</td>\n",
       "      <td>33.0</td>\n",
       "      <td>1</td>\n",
       "      <td>ultra</td>\n",
       "    </tr>\n",
       "    <tr>\n",
       "      <th>5</th>\n",
       "      <td>1</td>\n",
       "      <td>13</td>\n",
       "      <td>6687.987446</td>\n",
       "      <td>42.0</td>\n",
       "      <td>2</td>\n",
       "      <td>ultra</td>\n",
       "    </tr>\n",
       "    <tr>\n",
       "      <th>6</th>\n",
       "      <td>1</td>\n",
       "      <td>14</td>\n",
       "      <td>7699.643820</td>\n",
       "      <td>35.0</td>\n",
       "      <td>2</td>\n",
       "      <td>ultra</td>\n",
       "    </tr>\n",
       "    <tr>\n",
       "      <th>7</th>\n",
       "      <td>1</td>\n",
       "      <td>15</td>\n",
       "      <td>4187.621459</td>\n",
       "      <td>39.0</td>\n",
       "      <td>1</td>\n",
       "      <td>ultra</td>\n",
       "    </tr>\n",
       "    <tr>\n",
       "      <th>8</th>\n",
       "      <td>1</td>\n",
       "      <td>20</td>\n",
       "      <td>3516.719208</td>\n",
       "      <td>29.0</td>\n",
       "      <td>1</td>\n",
       "      <td>ultra</td>\n",
       "    </tr>\n",
       "    <tr>\n",
       "      <th>9</th>\n",
       "      <td>1</td>\n",
       "      <td>22</td>\n",
       "      <td>3058.692225</td>\n",
       "      <td>13.0</td>\n",
       "      <td>1</td>\n",
       "      <td>ultra</td>\n",
       "    </tr>\n",
       "    <tr>\n",
       "      <th>10</th>\n",
       "      <td>1</td>\n",
       "      <td>25</td>\n",
       "      <td>3440.353053</td>\n",
       "      <td>17.0</td>\n",
       "      <td>1</td>\n",
       "      <td>ultra</td>\n",
       "    </tr>\n",
       "    <tr>\n",
       "      <th>11</th>\n",
       "      <td>1</td>\n",
       "      <td>26</td>\n",
       "      <td>6545.964099</td>\n",
       "      <td>28.0</td>\n",
       "      <td>2</td>\n",
       "      <td>ultra</td>\n",
       "    </tr>\n",
       "    <tr>\n",
       "      <th>12</th>\n",
       "      <td>1</td>\n",
       "      <td>30</td>\n",
       "      <td>7774.720501</td>\n",
       "      <td>25.0</td>\n",
       "      <td>2</td>\n",
       "      <td>ultra</td>\n",
       "    </tr>\n",
       "    <tr>\n",
       "      <th>13</th>\n",
       "      <td>1</td>\n",
       "      <td>32</td>\n",
       "      <td>3734.993902</td>\n",
       "      <td>25.0</td>\n",
       "      <td>1</td>\n",
       "      <td>ultra</td>\n",
       "    </tr>\n",
       "    <tr>\n",
       "      <th>14</th>\n",
       "      <td>1</td>\n",
       "      <td>35</td>\n",
       "      <td>9707.810053</td>\n",
       "      <td>57.0</td>\n",
       "      <td>3</td>\n",
       "      <td>ultra</td>\n",
       "    </tr>\n",
       "  </tbody>\n",
       "</table>\n",
       "</div>"
      ],
      "text/plain": [
       "    month  user_id  total_distance  total_duration  trip_count  \\\n",
       "0       1        1     7027.511294            42.0           2   \n",
       "1       1        3     3061.777147            13.0           1   \n",
       "2       1        5     3914.646990            13.0           1   \n",
       "3       1        7     6478.080979            28.0           2   \n",
       "4       1       12     3577.151148            33.0           1   \n",
       "5       1       13     6687.987446            42.0           2   \n",
       "6       1       14     7699.643820            35.0           2   \n",
       "7       1       15     4187.621459            39.0           1   \n",
       "8       1       20     3516.719208            29.0           1   \n",
       "9       1       22     3058.692225            13.0           1   \n",
       "10      1       25     3440.353053            17.0           1   \n",
       "11      1       26     6545.964099            28.0           2   \n",
       "12      1       30     7774.720501            25.0           2   \n",
       "13      1       32     3734.993902            25.0           1   \n",
       "14      1       35     9707.810053            57.0           3   \n",
       "\n",
       "   subscription_type  \n",
       "0              ultra  \n",
       "1              ultra  \n",
       "2              ultra  \n",
       "3              ultra  \n",
       "4              ultra  \n",
       "5              ultra  \n",
       "6              ultra  \n",
       "7              ultra  \n",
       "8              ultra  \n",
       "9              ultra  \n",
       "10             ultra  \n",
       "11             ultra  \n",
       "12             ultra  \n",
       "13             ultra  \n",
       "14             ultra  "
      ]
     },
     "execution_count": 61,
     "metadata": {},
     "output_type": "execute_result"
    }
   ],
   "source": [
    "total_df=df.pivot_table(index=['month', 'user_id'],\n",
    "                       values=['distance', 'duration', 'name', 'subscription_type'],\n",
    "                       aggfunc={'distance':'sum', 'duration':'sum', 'name':'count', 'subscription_type': 'min'}\n",
    "                       )\n",
    "total_df.columns=['total_distance', 'total_duration', 'trip_count', 'subscription_type']\n",
    "\n",
    "total_df=total_df.reset_index()\n",
    "\n",
    "#total_df['total_duration']=np.ceil(total_df['total_duration'])\n",
    "\n",
    "total_df.head(15)"
   ]
  },
  {
   "cell_type": "markdown",
   "id": "bb0b20ac",
   "metadata": {},
   "source": [
    "Для подсчета выручки создадим функцию income_func и создадим новый столбец с данными о доходе. "
   ]
  },
  {
   "cell_type": "code",
   "execution_count": 62,
   "id": "ec162a0e",
   "metadata": {
    "scrolled": true
   },
   "outputs": [
    {
     "data": {
      "text/html": [
       "<div>\n",
       "<style scoped>\n",
       "    .dataframe tbody tr th:only-of-type {\n",
       "        vertical-align: middle;\n",
       "    }\n",
       "\n",
       "    .dataframe tbody tr th {\n",
       "        vertical-align: top;\n",
       "    }\n",
       "\n",
       "    .dataframe thead th {\n",
       "        text-align: right;\n",
       "    }\n",
       "</style>\n",
       "<table border=\"1\" class=\"dataframe\">\n",
       "  <thead>\n",
       "    <tr style=\"text-align: right;\">\n",
       "      <th></th>\n",
       "      <th>month</th>\n",
       "      <th>user_id</th>\n",
       "      <th>total_distance</th>\n",
       "      <th>total_duration</th>\n",
       "      <th>trip_count</th>\n",
       "      <th>subscription_type</th>\n",
       "      <th>income</th>\n",
       "    </tr>\n",
       "  </thead>\n",
       "  <tbody>\n",
       "    <tr>\n",
       "      <th>0</th>\n",
       "      <td>1</td>\n",
       "      <td>1</td>\n",
       "      <td>7027.511294</td>\n",
       "      <td>42.0</td>\n",
       "      <td>2</td>\n",
       "      <td>ultra</td>\n",
       "      <td>451.0</td>\n",
       "    </tr>\n",
       "    <tr>\n",
       "      <th>1</th>\n",
       "      <td>1</td>\n",
       "      <td>3</td>\n",
       "      <td>3061.777147</td>\n",
       "      <td>13.0</td>\n",
       "      <td>1</td>\n",
       "      <td>ultra</td>\n",
       "      <td>277.0</td>\n",
       "    </tr>\n",
       "    <tr>\n",
       "      <th>2</th>\n",
       "      <td>1</td>\n",
       "      <td>5</td>\n",
       "      <td>3914.646990</td>\n",
       "      <td>13.0</td>\n",
       "      <td>1</td>\n",
       "      <td>ultra</td>\n",
       "      <td>277.0</td>\n",
       "    </tr>\n",
       "    <tr>\n",
       "      <th>3</th>\n",
       "      <td>1</td>\n",
       "      <td>7</td>\n",
       "      <td>6478.080979</td>\n",
       "      <td>28.0</td>\n",
       "      <td>2</td>\n",
       "      <td>ultra</td>\n",
       "      <td>367.0</td>\n",
       "    </tr>\n",
       "    <tr>\n",
       "      <th>4</th>\n",
       "      <td>1</td>\n",
       "      <td>12</td>\n",
       "      <td>3577.151148</td>\n",
       "      <td>33.0</td>\n",
       "      <td>1</td>\n",
       "      <td>ultra</td>\n",
       "      <td>397.0</td>\n",
       "    </tr>\n",
       "    <tr>\n",
       "      <th>5</th>\n",
       "      <td>1</td>\n",
       "      <td>13</td>\n",
       "      <td>6687.987446</td>\n",
       "      <td>42.0</td>\n",
       "      <td>2</td>\n",
       "      <td>ultra</td>\n",
       "      <td>451.0</td>\n",
       "    </tr>\n",
       "    <tr>\n",
       "      <th>6</th>\n",
       "      <td>1</td>\n",
       "      <td>14</td>\n",
       "      <td>7699.643820</td>\n",
       "      <td>35.0</td>\n",
       "      <td>2</td>\n",
       "      <td>ultra</td>\n",
       "      <td>409.0</td>\n",
       "    </tr>\n",
       "    <tr>\n",
       "      <th>7</th>\n",
       "      <td>1</td>\n",
       "      <td>15</td>\n",
       "      <td>4187.621459</td>\n",
       "      <td>39.0</td>\n",
       "      <td>1</td>\n",
       "      <td>ultra</td>\n",
       "      <td>433.0</td>\n",
       "    </tr>\n",
       "    <tr>\n",
       "      <th>8</th>\n",
       "      <td>1</td>\n",
       "      <td>20</td>\n",
       "      <td>3516.719208</td>\n",
       "      <td>29.0</td>\n",
       "      <td>1</td>\n",
       "      <td>ultra</td>\n",
       "      <td>373.0</td>\n",
       "    </tr>\n",
       "    <tr>\n",
       "      <th>9</th>\n",
       "      <td>1</td>\n",
       "      <td>22</td>\n",
       "      <td>3058.692225</td>\n",
       "      <td>13.0</td>\n",
       "      <td>1</td>\n",
       "      <td>ultra</td>\n",
       "      <td>277.0</td>\n",
       "    </tr>\n",
       "  </tbody>\n",
       "</table>\n",
       "</div>"
      ],
      "text/plain": [
       "   month  user_id  total_distance  total_duration  trip_count  \\\n",
       "0      1        1     7027.511294            42.0           2   \n",
       "1      1        3     3061.777147            13.0           1   \n",
       "2      1        5     3914.646990            13.0           1   \n",
       "3      1        7     6478.080979            28.0           2   \n",
       "4      1       12     3577.151148            33.0           1   \n",
       "5      1       13     6687.987446            42.0           2   \n",
       "6      1       14     7699.643820            35.0           2   \n",
       "7      1       15     4187.621459            39.0           1   \n",
       "8      1       20     3516.719208            29.0           1   \n",
       "9      1       22     3058.692225            13.0           1   \n",
       "\n",
       "  subscription_type  income  \n",
       "0             ultra   451.0  \n",
       "1             ultra   277.0  \n",
       "2             ultra   277.0  \n",
       "3             ultra   367.0  \n",
       "4             ultra   397.0  \n",
       "5             ultra   451.0  \n",
       "6             ultra   409.0  \n",
       "7             ultra   433.0  \n",
       "8             ultra   373.0  \n",
       "9             ultra   277.0  "
      ]
     },
     "execution_count": 62,
     "metadata": {},
     "output_type": "execute_result"
    }
   ],
   "source": [
    "def income_func (row):\n",
    "    if row['subscription_type'] == 'ultra':\n",
    "        return 6 * row['total_duration'] + 199\n",
    "    elif row['subscription_type'] == 'free':\n",
    "        return 8 * row['total_duration'] + 50 * row['trip_count']\n",
    "    else:\n",
    "        return 'Другой тип подписки'\n",
    "\n",
    "total_df['income'] = total_df.apply(income_func, axis=1)\n",
    "\n",
    "total_df.head(10)"
   ]
  },
  {
   "cell_type": "code",
   "execution_count": 63,
   "id": "0eb12079",
   "metadata": {
    "scrolled": true
   },
   "outputs": [
    {
     "data": {
      "text/plain": [
       "count    11331.000000\n",
       "mean       342.303504\n",
       "std        153.875346\n",
       "min         58.000000\n",
       "25%        234.000000\n",
       "50%        319.000000\n",
       "75%        415.000000\n",
       "max       1444.000000\n",
       "Name: income, dtype: float64"
      ]
     },
     "execution_count": 63,
     "metadata": {},
     "output_type": "execute_result"
    }
   ],
   "source": [
    "total_df['income'].describe()"
   ]
  },
  {
   "cell_type": "code",
   "execution_count": 64,
   "id": "6925224a",
   "metadata": {
    "scrolled": false
   },
   "outputs": [
    {
     "data": {
      "image/png": "[encoded data removed]",
      "text/plain": [
       "<Figure size 800x500 with 1 Axes>"
      ]
     },
     "metadata": {},
     "output_type": "display_data"
    }
   ],
   "source": [
    "total_df.pivot_table(index='month', values='income', aggfunc='sum').plot.bar(figsize=(8, 5))\n",
    "plt.show()"
   ]
  },
  {
   "cell_type": "markdown",
   "id": "a3b9eb5c",
   "metadata": {},
   "source": [
    "Наглядно рассмотрели суммарное распредение выручки по месяцам, самые \"денежные\" месяца оказались декабрь и январь, что странно, ведь в холодное время года самокаты не используются."
   ]
  },
  {
   "cell_type": "markdown",
   "id": "78cad30d",
   "metadata": {},
   "source": [
    "### Вывод\n",
    "\n",
    "Создали датафрейм с агрегированными данными о поездках (total_df) на основе общего датафрейма df.\n",
    "\n",
    "Рассчитали суммарное расстояние, суммарное время и количество поездок для каждого пользователя за каждый месяц\n",
    "\n",
    "Добавили столбец с помесячной выручкой, которую принес каждый пользователь. "
   ]
  },
  {
   "cell_type": "markdown",
   "id": "eb34f2a3",
   "metadata": {},
   "source": [
    "## Этап 6. Проверка гипотез"
   ]
  },
  {
   "cell_type": "markdown",
   "id": "c6ef78f3",
   "metadata": {},
   "source": [
    "### 6.1  Тратят ли пользователи с подпиской больше времени на поездки? Если да, то пользователи с подпиской могут быть «выгоднее» для компании"
   ]
  },
  {
   "cell_type": "markdown",
   "id": "6bd2c8ce",
   "metadata": {},
   "source": [
    "**Гипотеза 1: пользователи с подпиской тратят больше времени на поездки, чем пользователи без подписки**"
   ]
  },
  {
   "cell_type": "markdown",
   "id": "e383ed4c",
   "metadata": {},
   "source": [
    "Для проверки гипотезы воспользуемся двумя созданными датафреймами на 4 этапе с данными о пользователях с подпиской и без нее (df_ultra_sub и df_free_sub)"
   ]
  },
  {
   "cell_type": "markdown",
   "id": "bf9455a0",
   "metadata": {},
   "source": [
    "H0: Время (duration) пользователей на подписке ultra = время (duration) пользователей на подписке free\n",
    "\n",
    "H1: Время (duration) пользователей на подписке ultra > время (duration) пользователей на подписке free\n",
    "\n",
    "Уровень статистической значимости (alpha) зададим 5%"
   ]
  },
  {
   "cell_type": "code",
   "execution_count": 65,
   "id": "783e02f2",
   "metadata": {},
   "outputs": [
    {
     "name": "stdout",
     "output_type": "stream",
     "text": [
      "средняя оценка времени с подпиской: 18.54198516280583\n",
      "средняя оценка времени без подписки: 17.39090929866399\n",
      "p-значение: 1.2804098316645618e-34\n",
      "Отвергаем нулевую гипотезу о равенстве среднего времени поездки с подпиской и без нее\n"
     ]
    }
   ],
   "source": [
    "ultra = df_ultra_sub['duration'] \n",
    "\n",
    "free = df_free_sub['duration']\n",
    "\n",
    "alpha = 0.05\n",
    "\n",
    "results = st.ttest_ind(ultra, free, alternative='greater')\n",
    "\n",
    "print('средняя оценка времени с подпиской:', ultra.mean())\n",
    "print('средняя оценка времени без подписки:', free.mean())\n",
    "\n",
    "print('p-значение:', results.pvalue) \n",
    "\n",
    "if results.pvalue < alpha: \n",
    "    print('Отвергаем нулевую гипотезу о равенстве среднего времени поездки с подпиской и без нее') \n",
    "else: \n",
    "    print('Не получилось отвергнуть нулевую гипотезу о равенстве среднего времени поездки с подпиской и без нее') "
   ]
  },
  {
   "cell_type": "markdown",
   "id": "29dd97c4",
   "metadata": {},
   "source": [
    "**Полученное значение p-value меньше заданного уровня значимости, поэтому можно отвергнуть нулевую гипотезу.** \n",
    "\n",
    "**Есть основания говорить, что пользователи с подпиской тратят больше времени на поездки, чем пользователи без подписки.**\n",
    "\n",
    "Визуализируем распределение продолжительности поездок по видам подписок и месяцам."
   ]
  },
  {
   "cell_type": "code",
   "execution_count": 66,
   "id": "2e0d0375",
   "metadata": {
    "scrolled": false
   },
   "outputs": [
    {
     "data": {
      "image/png": "[encoded data removed]",
      "text/plain": [
       "<Figure size 640x480 with 1 Axes>"
      ]
     },
     "metadata": {},
     "output_type": "display_data"
    }
   ],
   "source": [
    "sub_duration=sns.barplot(\n",
    "    x='month', \n",
    "    y='duration', \n",
    "    hue='subscription_type', \n",
    "    data=df,\n",
    "    palette=['red', 'green'],\n",
    "    )\n",
    "sub_duration.set_title('Распределение продолжительности поездок по видам подписок и месяцам')\n",
    "sub_duration.set(xlabel='Номер месяца', ylabel='Продолжительность поездок');\n"
   ]
  },
  {
   "cell_type": "markdown",
   "id": "c7c9d912",
   "metadata": {},
   "source": [
    "**Из графика видно, что в каждом месяце продолжительность поездок пользователей с подпиской больше, чем продолжительность поездок без подписки.**"
   ]
  },
  {
   "cell_type": "markdown",
   "id": "c3efcf36",
   "metadata": {},
   "source": [
    "### 6.2 Расстояние одной поездки в 3130 метров — оптимальное с точки зрения износа самоката.  Можно ли сказать, что расстояние, которое проезжают пользователи с подпиской за одну поездку, не превышает 3130 метров? "
   ]
  },
  {
   "cell_type": "markdown",
   "id": "e2a5ca46",
   "metadata": {},
   "source": [
    "**Гипотеза 2: пользователи с подпиской проезжают расстояние, не превышающее 3130 метров за одну поездку**"
   ]
  },
  {
   "cell_type": "markdown",
   "id": "f5086dbe",
   "metadata": {},
   "source": [
    "H0: Расстояние (distance) проезжающее пользователи с подпиской ultra = 3130 метров\n",
    "\n",
    "H1: Расстояние (distance) проезжающее пользователи с подпиской ultra < 3130 метров\n",
    "\n",
    "Уровень статистической значимости (alpha) зададим 5%"
   ]
  },
  {
   "cell_type": "code",
   "execution_count": 67,
   "id": "825d2d1c",
   "metadata": {
    "scrolled": true
   },
   "outputs": [
    {
     "name": "stdout",
     "output_type": "stream",
     "text": [
      "средняя оценка расстояния одной поездки с подпиской: 3115.4453880370247\n",
      "p-значение: 0.08046311521502146\n",
      "Не получилось отвергнуть нулевую гипотезу\n"
     ]
    }
   ],
   "source": [
    "distance_ultra = df_ultra_sub['distance']\n",
    "\n",
    "interested_distance = 3130\n",
    "\n",
    "alpha = 0.05\n",
    "\n",
    "results = st.ttest_1samp(distance_ultra, interested_distance, alternative='less')\n",
    "\n",
    "print('средняя оценка расстояния одной поездки с подпиской:', distance_ultra.mean())\n",
    "\n",
    "print('p-значение:', results.pvalue) \n",
    "\n",
    "if results.pvalue < alpha: \n",
    "    print('Отвергаем нулевую гипотезу: расстояние проезжающее пользователи с подпиской меньше 3130 метров') \n",
    "else: \n",
    "    print('Не получилось отвергнуть нулевую гипотезу') "
   ]
  },
  {
   "cell_type": "markdown",
   "id": "701d18cb",
   "metadata": {},
   "source": [
    "**После проверки гипотезы мы не можем утверждать, что расстояние, которое проехали пользователи на тарифе ultra не превышает 3130 метров за одну поездку**"
   ]
  },
  {
   "cell_type": "markdown",
   "id": "d816a40b",
   "metadata": {},
   "source": [
    "### 6.3 Будет ли помесячная выручка от пользователей с подпиской по месяцам выше, чем выручка от пользователей без подписки"
   ]
  },
  {
   "cell_type": "markdown",
   "id": "8a0e4df7",
   "metadata": {},
   "source": [
    "**Гипотеза 3: помесячная выручка от пользователей с подпиской выше, чем выручка от пользователей без подписки**"
   ]
  },
  {
   "cell_type": "markdown",
   "id": "cfd6ff0b",
   "metadata": {},
   "source": [
    "H0: Выручка  пользователей с подпиской ultra = выручка пользователей с подпиской free\n",
    "\n",
    "H1: Выручка  пользователей с подпиской ultra > выручка  пользователей с подпиской free\n",
    "\n",
    "Уровень статистической значимости (alpha) зададим 5%\n"
   ]
  },
  {
   "cell_type": "code",
   "execution_count": 68,
   "id": "68c486be",
   "metadata": {},
   "outputs": [
    {
     "name": "stdout",
     "output_type": "stream",
     "text": [
      "средняя оценка помесячной выручки с подпиской: 362.7921906022502\n",
      "средняя оценка помесячной выручки без подписки: 328.6413651073845\n",
      "p-значение: 1.8850394384715216e-31\n",
      "Отвергаем нулевую гипотезу: выручка пользователей с подпиской больше чем выручка пользователей без нее\n"
     ]
    }
   ],
   "source": [
    "ultra_income = total_df.loc[total_df['subscription_type'] == 'ultra', 'income'] \n",
    "\n",
    "free_income = total_df.loc[total_df['subscription_type'] == 'free', 'income'] \n",
    "\n",
    "alpha = 0.05\n",
    "\n",
    "results = st.ttest_ind(ultra_income, free_income, alternative = 'greater')\n",
    "\n",
    "print('средняя оценка помесячной выручки с подпиской:', ultra_income.mean())\n",
    "print('средняя оценка помесячной выручки без подписки:', free_income.mean())\n",
    "\n",
    "print('p-значение:', results.pvalue) \n",
    "\n",
    "if results.pvalue < alpha:\n",
    "    print('Отвергаем нулевую гипотезу: выручка пользователей с подпиской больше чем выручка пользователей без нее')\n",
    "else:\n",
    "    print('Не удалось отвергнуть нулевую гипотезу')"
   ]
  },
  {
   "cell_type": "markdown",
   "id": "a7366b67",
   "metadata": {},
   "source": [
    "**Есть основания полагать, что помесячная выручка от пользователи с подпиской больше чем от пользователей без нее.** "
   ]
  },
  {
   "cell_type": "markdown",
   "id": "8118cb5a",
   "metadata": {},
   "source": [
    "### 6.4 Представьте такую ситуацию: техническая команда сервиса обновила сервера, с которыми взаимодействует мобильное приложение. Она надеется, что из-за этого количество обращений в техподдержку значимо снизилось. Некоторый файл содержит для каждого пользователя данные о количестве обращений до обновления и после него. Какой тест вам понадобился бы для проверки этой гипотезы?"
   ]
  },
  {
   "cell_type": "markdown",
   "id": "ea1c9493",
   "metadata": {},
   "source": [
    "Будем проверять гипотезу о равенстве средних для зависимых (парных) выборок\n",
    "\n",
    "Гипотезы в таком случае будут сформулированы так: \n",
    "\n",
    "H0 :μ1 = μ2  \n",
    "H1 :μ1 > μ2 \n",
    "\n",
    "где μ1  и μ2  — средние значения  количества обращений в техподдержку до и после обновлений сервера. \n",
    "\n",
    "Метод, который необходимо использовать при сравнении scipy.stats.ttest_rel(), eму достаточно передать всего два параметра: наборы данных до и после изменений\n",
    "Аргумент alternative укажу как alternative='greater', проверится правосторонняя альтернативная гипотеза о том, что истинное среднее генеральной совокупности до изменения больше, чем истинное среднее генеральной совокупности после изменения\n"
   ]
  },
  {
   "cell_type": "markdown",
   "id": "4d26c041",
   "metadata": {},
   "source": [
    "## Этап 7. Выводы"
   ]
  },
  {
   "cell_type": "markdown",
   "id": "8952bf45",
   "metadata": {},
   "source": [
    "**Проделанная работа:**\n",
    "- загрузили 3 датафрейма: с пользователями, информацией о поездках, информацией о подписках\n",
    "- проверили данные на пропуски, их в таблицах нет\n",
    "- привели столбец date в корректный формат\n",
    "- добавили столбец month с номером месяца\n",
    "- удалили строки-дубликаты из датафрейма с пользователями\n",
    "- провели исследовательский анализ данных, в ходе которого было выявлено:\n",
    "  - количество пользователей по городам распределено примерно одинаково.(лидер Пятигорск - 219 пользователей, меньше всего пользователей в Москве – 168)\n",
    "  - пользователей без подписки больше - 54% от общего числа пользователей, с подпиской 699 пользователей, что соответственно является 46%.\n",
    "  - средний возраст пользователя - 25 лет. В целом, пользователи приложения укладываются в промежуток от 20 до 30 лет.\n",
    "  - в основном пользователи проезжают от 2.5 км до 3,8 км. Но есть короткая дистанция - 0.86 м., скорее всего связано с тем, что пользователь передумал брать самокат, либо самокат оказался неисправным.\n",
    "  - в целом продолжительность поездки составляет 14 - 22 минуты. Но присутствует большое количество коротких поездок - по пол минуты, но скорее всего связано так же с тем что пользователь передумал брать самокат, либо самокат оказался неисправным.\n",
    "\n",
    "- Объединили данные о пользователях, поездках и тарифах в один датафрейм - df:\n",
    "  - Выделили два датафрейма на основе df: Информация о пользователях без подписки и Информация о пользователях с подпиской\n",
    "  - По итогам исследования сделали промежуточный вывод о том, что пользователи с подпиской совершают более долгие поездки, а также проезжают большее расстояние, чем пользователи без подписки.\n",
    "- Рассчитали суммарное расстояние, суммарное время и количество поездок для каждого пользователя за каждый месяц\n",
    "- Добавили столбец с помесячной выручкой, которую принес каждый пользователь. Выяснили что общая сумма выручки по месяцам распределена равномерно\n",
    "\n",
    "**По результатам исследования выдвинули три гипотезы, проверили их и выдвинули результаты, которые помогут оптимизировать работу сервиса**\n",
    "\n",
    "- Есть основания говорить, что пользователи с подпиской тратят больше времени на поездки, чем пользователи без подписки\n",
    "- Мы не можем утверждать, что расстояние, которое проехали пользователи на тарифе ultra не превышает 3130 метров (оптимальное расстояние для износа самоката) за одну поездку\n",
    "- Есть основания полагать, что помесячная выручка от пользователей с подпиской больше, чем от пользователей без нее.\n"
   ]
  },
  {
   "cell_type": "markdown",
   "id": "5463893b",
   "metadata": {},
   "source": [
    "**P.S. Попробую решить необязательное задание :)**"
   ]
  },
  {
   "cell_type": "markdown",
   "id": "f6048402",
   "metadata": {},
   "source": [
    "Отделу маркетинга GoFast поставили задачу: нужно провести акцию с раздачей промокодов на один бесплатный месяц подписки, в рамках которой как минимум 100 существующих клиентов должны продлить эту подписку. То есть по завершении периода действия подписки пользователь может либо отказаться от неё, либо продлить, совершив соответствующий платёж. \n",
    "Эта акция уже проводилась ранее и по итогу выяснилось, что после бесплатного пробного периода подписку продлевают 10 % пользователей. Выясните, какое минимальное количество промокодов нужно разослать, чтобы вероятность не выполнить план была примерно 5 %. Подберите параметры распределения, описывающего эту ситуацию, постройте график распределения и сформулируйте ответ на вопрос о количестве промокодов."
   ]
  },
  {
   "cell_type": "code",
   "execution_count": 69,
   "id": "2a2786c7",
   "metadata": {
    "scrolled": false
   },
   "outputs": [
    {
     "data": {
      "text/plain": [
       "<BarContainer object of 847 artists>"
      ]
     },
     "execution_count": 69,
     "metadata": {},
     "output_type": "execute_result"
    },
    {
     "data": {
      "image/png": "[encoded data removed]",
      "text/plain": [
       "<Figure size 640x480 with 1 Axes>"
      ]
     },
     "metadata": {},
     "output_type": "display_data"
    }
   ],
   "source": [
    "n = 846 # количество попыток, тоесть количество пользователей без подписки 846 \n",
    "\n",
    "p = 0.1 # вероятность успеха \n",
    "\n",
    "distr = [] \n",
    "\n",
    "for k in range(0, n + 1): \n",
    "\n",
    "    choose = factorial(n) / (factorial(k) * factorial(n - k)) \n",
    "\n",
    "    prob = choose * p**k * (1 - p)**(n - k)  \n",
    "\n",
    "    distr.append(prob)     \n",
    "\n",
    "plt.bar(range(0, n + 1), distr) "
   ]
  },
  {
   "cell_type": "code",
   "execution_count": 70,
   "id": "7ae9696c",
   "metadata": {},
   "outputs": [
    {
     "name": "stdout",
     "output_type": "stream",
     "text": [
      "239.15461684009455\n"
     ]
    }
   ],
   "source": [
    "#мат ожидание n*p\n",
    "\n",
    "distr = st.norm(100,84.6)  \n",
    "\n",
    "p = 0.95 \n",
    "\n",
    "result = distr.ppf(p) \n",
    "\n",
    "print(result) "
   ]
  },
  {
   "cell_type": "markdown",
   "id": "74952b8f",
   "metadata": {},
   "source": [
    "**По моим подсчетам для того, чтобы вероятность не выполнить план была примерно 5 % необходимо разослать минимум 239 промокодов для пользователей без оформленной подписки**"
   ]
  }
 ],
 "metadata": {
  "ExecuteTimeLog": [
   {
    "duration": 2090,
    "start_time": "2023-06-30T09:43:40.462Z"
   },
   {
    "duration": 84,
    "start_time": "2023-06-30T09:43:42.554Z"
   },
   {
    "duration": 12,
    "start_time": "2023-06-30T09:43:42.640Z"
   },
   {
    "duration": 12,
    "start_time": "2023-06-30T09:43:42.654Z"
   },
   {
    "duration": 8,
    "start_time": "2023-06-30T09:43:42.667Z"
   },
   {
    "duration": 5,
    "start_time": "2023-06-30T09:43:42.676Z"
   },
   {
    "duration": 7,
    "start_time": "2023-06-30T09:43:42.682Z"
   },
   {
    "duration": 91,
    "start_time": "2023-06-30T09:43:42.690Z"
   },
   {
    "duration": 11,
    "start_time": "2023-06-30T09:43:42.783Z"
   },
   {
    "duration": 18,
    "start_time": "2023-06-30T09:43:42.797Z"
   },
   {
    "duration": 23,
    "start_time": "2023-06-30T09:43:42.817Z"
   },
   {
    "duration": 7,
    "start_time": "2023-06-30T09:43:42.842Z"
   },
   {
    "duration": 11,
    "start_time": "2023-06-30T09:43:42.851Z"
   },
   {
    "duration": 63,
    "start_time": "2023-06-30T09:43:42.863Z"
   },
   {
    "duration": 10,
    "start_time": "2023-06-30T09:43:42.928Z"
   },
   {
    "duration": 18,
    "start_time": "2023-06-30T09:43:42.939Z"
   },
   {
    "duration": 11,
    "start_time": "2023-06-30T09:43:42.958Z"
   },
   {
    "duration": 23,
    "start_time": "2023-06-30T09:43:42.971Z"
   },
   {
    "duration": 32,
    "start_time": "2023-06-30T09:43:42.996Z"
   },
   {
    "duration": 31,
    "start_time": "2023-06-30T09:43:43.030Z"
   },
   {
    "duration": 24,
    "start_time": "2023-06-30T09:43:43.062Z"
   },
   {
    "duration": 6,
    "start_time": "2023-06-30T09:43:43.087Z"
   },
   {
    "duration": 24,
    "start_time": "2023-06-30T09:43:43.095Z"
   },
   {
    "duration": 7,
    "start_time": "2023-06-30T09:43:43.121Z"
   },
   {
    "duration": 10,
    "start_time": "2023-06-30T09:43:43.130Z"
   },
   {
    "duration": 11,
    "start_time": "2023-06-30T09:43:43.141Z"
   },
   {
    "duration": 197,
    "start_time": "2023-06-30T09:43:43.154Z"
   },
   {
    "duration": 228,
    "start_time": "2023-06-30T09:43:43.354Z"
   },
   {
    "duration": 107,
    "start_time": "2023-06-30T09:43:43.583Z"
   },
   {
    "duration": 20,
    "start_time": "2023-06-30T09:43:43.692Z"
   },
   {
    "duration": 179,
    "start_time": "2023-06-30T09:43:43.718Z"
   },
   {
    "duration": 14,
    "start_time": "2023-06-30T09:43:43.903Z"
   },
   {
    "duration": 11,
    "start_time": "2023-06-30T09:43:43.918Z"
   },
   {
    "duration": 6,
    "start_time": "2023-06-30T09:43:43.931Z"
   },
   {
    "duration": 146,
    "start_time": "2023-06-30T09:43:43.939Z"
   },
   {
    "duration": 208,
    "start_time": "2023-06-30T09:43:44.086Z"
   },
   {
    "duration": 19,
    "start_time": "2023-06-30T09:43:44.295Z"
   },
   {
    "duration": 9,
    "start_time": "2023-06-30T09:43:44.316Z"
   },
   {
    "duration": 7,
    "start_time": "2023-06-30T09:43:44.326Z"
   },
   {
    "duration": 107,
    "start_time": "2023-06-30T09:43:44.334Z"
   },
   {
    "duration": 282,
    "start_time": "2023-06-30T09:43:44.443Z"
   },
   {
    "duration": 32,
    "start_time": "2023-06-30T09:43:44.727Z"
   },
   {
    "duration": 10,
    "start_time": "2023-06-30T09:43:44.761Z"
   },
   {
    "duration": 9,
    "start_time": "2023-06-30T09:43:44.773Z"
   },
   {
    "duration": 33,
    "start_time": "2023-06-30T09:43:44.783Z"
   },
   {
    "duration": 26,
    "start_time": "2023-06-30T09:43:44.817Z"
   },
   {
    "duration": 6,
    "start_time": "2023-06-30T09:43:44.844Z"
   },
   {
    "duration": 31,
    "start_time": "2023-06-30T09:43:44.851Z"
   },
   {
    "duration": 3,
    "start_time": "2023-06-30T09:43:44.884Z"
   },
   {
    "duration": 30,
    "start_time": "2023-06-30T09:43:44.889Z"
   },
   {
    "duration": 19,
    "start_time": "2023-06-30T09:43:44.922Z"
   },
   {
    "duration": 16,
    "start_time": "2023-06-30T09:43:44.943Z"
   },
   {
    "duration": 24,
    "start_time": "2023-06-30T09:43:44.960Z"
   },
   {
    "duration": 269,
    "start_time": "2023-06-30T09:43:44.986Z"
   },
   {
    "duration": 229,
    "start_time": "2023-06-30T09:43:45.256Z"
   },
   {
    "duration": 234,
    "start_time": "2023-06-30T09:43:45.487Z"
   },
   {
    "duration": 200,
    "start_time": "2023-06-30T09:43:45.722Z"
   },
   {
    "duration": 12,
    "start_time": "2023-06-30T09:43:45.924Z"
   },
   {
    "duration": 6,
    "start_time": "2023-06-30T09:43:45.938Z"
   },
   {
    "duration": 14,
    "start_time": "2023-06-30T09:43:45.946Z"
   },
   {
    "duration": 9,
    "start_time": "2023-06-30T09:43:45.961Z"
   },
   {
    "duration": 970,
    "start_time": "2023-06-30T09:43:45.972Z"
   },
   {
    "duration": 154,
    "start_time": "2023-06-30T09:43:46.943Z"
   },
   {
    "duration": 7,
    "start_time": "2023-06-30T09:43:47.099Z"
   },
   {
    "duration": 201,
    "start_time": "2023-06-30T09:43:47.107Z"
   },
   {
    "duration": 23,
    "start_time": "2023-06-30T09:43:47.310Z"
   },
   {
    "duration": 813,
    "start_time": "2023-06-30T09:43:47.334Z"
   },
   {
    "duration": 8,
    "start_time": "2023-06-30T09:43:48.149Z"
   },
   {
    "duration": 10,
    "start_time": "2023-06-30T09:43:48.159Z"
   },
   {
    "duration": 1122,
    "start_time": "2023-06-30T09:43:48.171Z"
   },
   {
    "duration": 20,
    "start_time": "2023-06-30T09:43:49.295Z"
   },
   {
    "duration": 46,
    "start_time": "2023-07-03T05:32:34.083Z"
   },
   {
    "duration": 1361,
    "start_time": "2023-07-03T05:32:57.884Z"
   },
   {
    "duration": 76,
    "start_time": "2023-07-03T05:32:59.247Z"
   },
   {
    "duration": 12,
    "start_time": "2023-07-03T05:32:59.324Z"
   },
   {
    "duration": 27,
    "start_time": "2023-07-03T05:32:59.337Z"
   },
   {
    "duration": 8,
    "start_time": "2023-07-03T05:32:59.366Z"
   },
   {
    "duration": 6,
    "start_time": "2023-07-03T05:32:59.376Z"
   },
   {
    "duration": 14,
    "start_time": "2023-07-03T05:32:59.384Z"
   },
   {
    "duration": 72,
    "start_time": "2023-07-03T05:32:59.400Z"
   },
   {
    "duration": 10,
    "start_time": "2023-07-03T05:32:59.473Z"
   },
   {
    "duration": 28,
    "start_time": "2023-07-03T05:32:59.485Z"
   },
   {
    "duration": 28,
    "start_time": "2023-07-03T05:32:59.515Z"
   },
   {
    "duration": 4,
    "start_time": "2023-07-03T05:32:59.545Z"
   },
   {
    "duration": 18,
    "start_time": "2023-07-03T05:32:59.550Z"
   },
   {
    "duration": 55,
    "start_time": "2023-07-03T05:32:59.570Z"
   },
   {
    "duration": 9,
    "start_time": "2023-07-03T05:32:59.627Z"
   },
   {
    "duration": 14,
    "start_time": "2023-07-03T05:32:59.638Z"
   },
   {
    "duration": 13,
    "start_time": "2023-07-03T05:32:59.653Z"
   },
   {
    "duration": 16,
    "start_time": "2023-07-03T05:32:59.668Z"
   },
   {
    "duration": 30,
    "start_time": "2023-07-03T05:32:59.685Z"
   },
   {
    "duration": 14,
    "start_time": "2023-07-03T05:32:59.716Z"
   },
   {
    "duration": 23,
    "start_time": "2023-07-03T05:32:59.731Z"
   },
   {
    "duration": 4,
    "start_time": "2023-07-03T05:32:59.756Z"
   },
   {
    "duration": 9,
    "start_time": "2023-07-03T05:32:59.762Z"
   },
   {
    "duration": 6,
    "start_time": "2023-07-03T05:32:59.772Z"
   },
   {
    "duration": 22,
    "start_time": "2023-07-03T05:32:59.780Z"
   },
   {
    "duration": 14,
    "start_time": "2023-07-03T05:32:59.803Z"
   },
   {
    "duration": 154,
    "start_time": "2023-07-03T05:32:59.819Z"
   },
   {
    "duration": 238,
    "start_time": "2023-07-03T05:32:59.977Z"
   },
   {
    "duration": 113,
    "start_time": "2023-07-03T05:33:00.217Z"
   },
   {
    "duration": 8,
    "start_time": "2023-07-03T05:33:00.331Z"
   },
   {
    "duration": 202,
    "start_time": "2023-07-03T05:33:00.341Z"
   },
   {
    "duration": 8,
    "start_time": "2023-07-03T05:33:00.544Z"
   },
   {
    "duration": 48,
    "start_time": "2023-07-03T05:33:00.553Z"
   },
   {
    "duration": 33,
    "start_time": "2023-07-03T05:33:00.602Z"
   },
   {
    "duration": 150,
    "start_time": "2023-07-03T05:33:00.636Z"
   },
   {
    "duration": 204,
    "start_time": "2023-07-03T05:33:00.788Z"
   },
   {
    "duration": 10,
    "start_time": "2023-07-03T05:33:00.994Z"
   },
   {
    "duration": 37,
    "start_time": "2023-07-03T05:33:01.006Z"
   },
   {
    "duration": 39,
    "start_time": "2023-07-03T05:33:01.045Z"
   },
   {
    "duration": 127,
    "start_time": "2023-07-03T05:33:01.086Z"
   },
   {
    "duration": 283,
    "start_time": "2023-07-03T05:33:01.215Z"
   },
   {
    "duration": 29,
    "start_time": "2023-07-03T05:33:01.499Z"
   },
   {
    "duration": 60,
    "start_time": "2023-07-03T05:33:01.529Z"
   },
   {
    "duration": 57,
    "start_time": "2023-07-03T05:33:01.591Z"
   },
   {
    "duration": 62,
    "start_time": "2023-07-03T05:33:01.649Z"
   },
   {
    "duration": 13,
    "start_time": "2023-07-03T05:33:01.713Z"
   },
   {
    "duration": 51,
    "start_time": "2023-07-03T05:33:01.727Z"
   },
   {
    "duration": 35,
    "start_time": "2023-07-03T05:33:01.780Z"
   },
   {
    "duration": 29,
    "start_time": "2023-07-03T05:33:01.816Z"
   },
   {
    "duration": 52,
    "start_time": "2023-07-03T05:33:01.846Z"
   },
   {
    "duration": 36,
    "start_time": "2023-07-03T05:33:01.899Z"
   },
   {
    "duration": 44,
    "start_time": "2023-07-03T05:33:01.937Z"
   },
   {
    "duration": 37,
    "start_time": "2023-07-03T05:33:01.983Z"
   },
   {
    "duration": 267,
    "start_time": "2023-07-03T05:33:02.021Z"
   },
   {
    "duration": 247,
    "start_time": "2023-07-03T05:33:02.289Z"
   },
   {
    "duration": 210,
    "start_time": "2023-07-03T05:33:02.539Z"
   },
   {
    "duration": 225,
    "start_time": "2023-07-03T05:33:02.750Z"
   },
   {
    "duration": 11,
    "start_time": "2023-07-03T05:33:02.976Z"
   },
   {
    "duration": 12,
    "start_time": "2023-07-03T05:33:02.989Z"
   },
   {
    "duration": 14,
    "start_time": "2023-07-03T05:33:03.002Z"
   },
   {
    "duration": 27,
    "start_time": "2023-07-03T05:33:03.018Z"
   },
   {
    "duration": 719,
    "start_time": "2023-07-03T05:33:03.046Z"
   },
   {
    "duration": 145,
    "start_time": "2023-07-03T05:33:03.767Z"
   },
   {
    "duration": 7,
    "start_time": "2023-07-03T05:33:03.913Z"
   },
   {
    "duration": 173,
    "start_time": "2023-07-03T05:33:03.922Z"
   },
   {
    "duration": 7,
    "start_time": "2023-07-03T05:33:04.097Z"
   },
   {
    "duration": 736,
    "start_time": "2023-07-03T05:33:04.105Z"
   },
   {
    "duration": 7,
    "start_time": "2023-07-03T05:33:04.842Z"
   },
   {
    "duration": 14,
    "start_time": "2023-07-03T05:33:04.850Z"
   },
   {
    "duration": 1111,
    "start_time": "2023-07-03T05:33:04.875Z"
   },
   {
    "duration": 5,
    "start_time": "2023-07-03T05:33:05.987Z"
   }
  ],
  "kernelspec": {
   "display_name": "Python 3 (ipykernel)",
   "language": "python",
   "name": "python3"
  },
  "language_info": {
   "codemirror_mode": {
    "name": "ipython",
    "version": 3
   },
   "file_extension": ".py",
   "mimetype": "text/x-python",
   "name": "python",
   "nbconvert_exporter": "python",
   "pygments_lexer": "ipython3",
   "version": "3.10.9"
  },
  "toc": {
   "base_numbering": 1,
   "nav_menu": {},
   "number_sections": true,
   "sideBar": true,
   "skip_h1_title": true,
   "title_cell": "Table of Contents",
   "title_sidebar": "Contents",
   "toc_cell": false,
   "toc_position": {},
   "toc_section_display": true,
   "toc_window_display": false
  }
 },
 "nbformat": 4,
 "nbformat_minor": 5
}
