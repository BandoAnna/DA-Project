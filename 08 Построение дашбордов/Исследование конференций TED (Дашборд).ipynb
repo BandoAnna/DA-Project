{
 "cells": [
  {
   "cell_type": "markdown",
   "id": "1a653a7d",
   "metadata": {},
   "source": [
    "# Исследование конференций TED"
   ]
  },
  {
   "cell_type": "markdown",
   "id": "22fc959b",
   "metadata": {},
   "source": [
    "**Ссылка на дашборд и презентацию:** https://public.tableau.com/views/TEDproject_16980424167130/TED?:language=en-US&:display_count=n&:origin=viz_share_link"
   ]
  },
  {
   "cell_type": "markdown",
   "id": "961a3276",
   "metadata": {},
   "source": [
    "TED (от англ. technology, education, design — «технологии, образование, дизайн») — некоммерческий фонд, который проводит популярные конференции. На них выступают специалисты из разных областей и читают лекции на актуальные социальные, культурные и научные темы. \n",
    "\n",
    "**Цель проекта** - исследовать историю TED-конференций с помощью Tableau, создадите дашборды и презентацию на основе данных о конференциях TED\n",
    "\n",
    "**Исходные данные** - данные на основе материалов сайта TED\n",
    "\n",
    "\n",
    "\n",
    "**Описание данных:**\n",
    "\n",
    "**Файлы tableau_project_data_1.csv, tableau_project_data_2.csv, tableau_project_data_3.csv хранят данные выступлений.** \n",
    "\n",
    "\n",
    "**Файл tableau_project_event_dict.csv — справочник конференций.** \n",
    "\n",
    "\n",
    "**Файл tableau_project_speakers_dict.csv — справочник авторов выступления.** \n",
    "\n",
    "\n",
    "\n",
    "**Состав презентации:**\n",
    "- дашборд «История выступлений»\n",
    "- дашборд «Тематики выступлений»\n",
    "- дашборд «Авторы выступлений»\n",
    "- самостоятельный дашборд «Поппулярные конференции»"
   ]
  }
 ],
 "metadata": {
  "kernelspec": {
   "display_name": "Python 3 (ipykernel)",
   "language": "python",
   "name": "python3"
  },
  "language_info": {
   "codemirror_mode": {
    "name": "ipython",
    "version": 3
   },
   "file_extension": ".py",
   "mimetype": "text/x-python",
   "name": "python",
   "nbconvert_exporter": "python",
   "pygments_lexer": "ipython3",
   "version": "3.10.9"
  },
  "toc": {
   "base_numbering": 1,
   "nav_menu": {},
   "number_sections": true,
   "sideBar": true,
   "skip_h1_title": true,
   "title_cell": "Table of Contents",
   "title_sidebar": "Contents",
   "toc_cell": false,
   "toc_position": {},
   "toc_section_display": true,
   "toc_window_display": false
  }
 },
 "nbformat": 4,
 "nbformat_minor": 5
}
